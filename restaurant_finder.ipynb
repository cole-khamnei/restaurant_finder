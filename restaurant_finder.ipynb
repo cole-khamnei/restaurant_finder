{
 "cells": [
  {
   "cell_type": "code",
   "execution_count": 12,
   "id": "hungarian-baghdad",
   "metadata": {},
   "outputs": [],
   "source": [
    "import os\n",
    "import sys\n",
    "import time\n",
    "\n",
    "import json\n",
    "import requests\n",
    "\n",
    "import matplotlib.pyplot as plt\n",
    "import numpy as np\n",
    "import pandas as pd\n",
    "\n",
    "from bs4 import BeautifulSoup as bsoup\n",
    "\n",
    "try:\n",
    "    get_ipython()\n",
    "    from tqdm.notebook import tqdm\n",
    "except NameError:\n",
    "    from tqdm import tqdm\n",
    "    \n",
    "%load_ext autoreload\n",
    "%autoreload 2"
   ]
  },
  {
   "cell_type": "code",
   "execution_count": 2,
   "id": "6fa1e2a3",
   "metadata": {},
   "outputs": [],
   "source": [
    "import nord_vpn"
   ]
  },
  {
   "cell_type": "code",
   "execution_count": 13,
   "id": "60020e41",
   "metadata": {},
   "outputs": [],
   "source": [
    "from sys import platform"
   ]
  },
  {
   "cell_type": "code",
   "execution_count": 14,
   "id": "prospective-summer",
   "metadata": {},
   "outputs": [],
   "source": [
    "if platform != \"darwin\":\n",
    "    pass\n",
    "    vpn = nord_vpn.NordVPN()\n",
    "    vpn.connect()\n",
    "    vpn.disconnect()\n",
    "    vpn.check_status()"
   ]
  },
  {
   "cell_type": "code",
   "execution_count": 19,
   "id": "f469adea",
   "metadata": {},
   "outputs": [],
   "source": [
    "import scrape"
   ]
  },
  {
   "cell_type": "code",
   "execution_count": 23,
   "id": "indoor-fairy",
   "metadata": {},
   "outputs": [
    {
     "name": "stdout",
     "output_type": "stream",
     "text": [
      "https://guide.michelin.com/us/en/new-york-state/new-york/restaurants/1-star-michelin\n"
     ]
    }
   ],
   "source": [
    "url = scrape.get_michelin_guide_url(\"new york\", \"new york\", stars=\"1\")\n",
    "print(url)"
   ]
  },
  {
   "cell_type": "code",
   "execution_count": 25,
   "id": "explicit-inspiration",
   "metadata": {},
   "outputs": [],
   "source": [
    "restaurant_html_list = scrape.get_michelin_guide_restaurant_html_list(\"new york\", \"new york\", stars=\"3\")\n",
    "restaurant_html = restaurant_html_list[0]"
   ]
  },
  {
   "cell_type": "code",
   "execution_count": 29,
   "id": "exterior-assessment",
   "metadata": {},
   "outputs": [
    {
     "name": "stdout",
     "output_type": "stream",
     "text": [
      "['355', 'USD', '•', 'Contemporary', 'French']\n"
     ]
    },
    {
     "data": {
      "text/plain": [
       "Per Se | 3 Stars | 4.6 Stars (Google Reviews)| 355"
      ]
     },
     "execution_count": 29,
     "metadata": {},
     "output_type": "execute_result"
    }
   ],
   "source": [
    "scrape.MichelinRestaurant(restaurant_html_list[1])"
   ]
  },
  {
   "cell_type": "code",
   "execution_count": 32,
   "id": "pregnant-concentrate",
   "metadata": {},
   "outputs": [
    {
     "name": "stderr",
     "output_type": "stream",
     "text": [
      "\n",
      "Collecting Restaurant Information:   0%|                                                                                                                                | 0/65 [00:00<?, ? Restaurant/s]\u001b[A"
     ]
    },
    {
     "name": "stdout",
     "output_type": "stream",
     "text": [
      "['138', '-', '188', 'USD', '•', 'Contemporary']\n"
     ]
    },
    {
     "name": "stderr",
     "output_type": "stream",
     "text": [
      "\n",
      "Collecting Restaurant Information:   2%|█▊                                                                                                                      | 1/65 [00:02<02:19,  2.18s/ Restaurant]\u001b[A"
     ]
    },
    {
     "name": "stdout",
     "output_type": "stream",
     "text": [
      "['American', 'Californian']\n",
      "Unexpected exception formatting exception. Falling back to standard exception\n"
     ]
    },
    {
     "name": "stderr",
     "output_type": "stream",
     "text": [
      "Traceback (most recent call last):\n",
      "  File \"/Users/cole/miniconda3/envs/py38/lib/python3.8/site-packages/IPython/core/interactiveshell.py\", line 3398, in run_code\n",
      "    exec(code_obj, self.user_global_ns, self.user_ns)\n",
      "  File \"/var/folders/vy/ng8z35ts71z736pdwsgxy_300000gn/T/ipykernel_12439/2141405615.py\", line 2, in <cell line: 2>\n",
      "    restaurant_list = scrape.get_convert_restaurant_html_list_to_restaurants(restaurant_html_list)\n",
      "  File \"/Users/cole/Documents/_projects/restaurant_finder/scrape.py\", line 244, in get_convert_restaurant_html_list_to_restaurants\n",
      "    return [MichelinRestaurant(restaurant_html) for restaurant_html in tqdm(restaurant_html_list, desc=desc, unit=\" Restaurant\")]\n",
      "  File \"/Users/cole/Documents/_projects/restaurant_finder/scrape.py\", line 244, in <listcomp>\n",
      "    return [MichelinRestaurant(restaurant_html) for restaurant_html in tqdm(restaurant_html_list, desc=desc, unit=\" Restaurant\")]\n",
      "  File \"/Users/cole/Documents/_projects/restaurant_finder/scrape.py\", line 189, in __init__\n",
      "    if info_tokens[3] == \"USD\":\n",
      "IndexError: list index out of range\n",
      "\n",
      "During handling of the above exception, another exception occurred:\n",
      "\n",
      "Traceback (most recent call last):\n",
      "  File \"/Users/cole/miniconda3/envs/py38/lib/python3.8/site-packages/IPython/core/interactiveshell.py\", line 1993, in showtraceback\n",
      "    stb = self.InteractiveTB.structured_traceback(\n",
      "  File \"/Users/cole/miniconda3/envs/py38/lib/python3.8/site-packages/IPython/core/ultratb.py\", line 1118, in structured_traceback\n",
      "    return FormattedTB.structured_traceback(\n",
      "  File \"/Users/cole/miniconda3/envs/py38/lib/python3.8/site-packages/IPython/core/ultratb.py\", line 1012, in structured_traceback\n",
      "    return VerboseTB.structured_traceback(\n",
      "  File \"/Users/cole/miniconda3/envs/py38/lib/python3.8/site-packages/IPython/core/ultratb.py\", line 865, in structured_traceback\n",
      "    formatted_exception = self.format_exception_as_a_whole(etype, evalue, etb, number_of_lines_of_context,\n",
      "  File \"/Users/cole/miniconda3/envs/py38/lib/python3.8/site-packages/IPython/core/ultratb.py\", line 818, in format_exception_as_a_whole\n",
      "    frames.append(self.format_record(r))\n",
      "  File \"/Users/cole/miniconda3/envs/py38/lib/python3.8/site-packages/IPython/core/ultratb.py\", line 736, in format_record\n",
      "    result += ''.join(_format_traceback_lines(frame_info.lines, Colors, self.has_colors, lvals))\n",
      "  File \"/Users/cole/miniconda3/envs/py38/lib/python3.8/site-packages/stack_data/utils.py\", line 145, in cached_property_wrapper\n",
      "    value = obj.__dict__[self.func.__name__] = self.func(obj)\n",
      "  File \"/Users/cole/miniconda3/envs/py38/lib/python3.8/site-packages/stack_data/core.py\", line 698, in lines\n",
      "    pieces = self.included_pieces\n",
      "  File \"/Users/cole/miniconda3/envs/py38/lib/python3.8/site-packages/stack_data/utils.py\", line 145, in cached_property_wrapper\n",
      "    value = obj.__dict__[self.func.__name__] = self.func(obj)\n",
      "  File \"/Users/cole/miniconda3/envs/py38/lib/python3.8/site-packages/stack_data/core.py\", line 649, in included_pieces\n",
      "    pos = scope_pieces.index(self.executing_piece)\n",
      "  File \"/Users/cole/miniconda3/envs/py38/lib/python3.8/site-packages/stack_data/utils.py\", line 145, in cached_property_wrapper\n",
      "    value = obj.__dict__[self.func.__name__] = self.func(obj)\n",
      "  File \"/Users/cole/miniconda3/envs/py38/lib/python3.8/site-packages/stack_data/core.py\", line 628, in executing_piece\n",
      "    return only(\n",
      "  File \"/Users/cole/miniconda3/envs/py38/lib/python3.8/site-packages/executing/executing.py\", line 164, in only\n",
      "    raise NotOneValueFound('Expected one value, found 0')\n",
      "executing.executing.NotOneValueFound: Expected one value, found 0\n"
     ]
    }
   ],
   "source": [
    "restaurant_html_list = scrape.get_michelin_guide_restaurant_html_list(\"new york\", \"new york\", stars=\"1+\")\n",
    "restaurant_list = scrape.get_convert_restaurant_html_list_to_restaurants(restaurant_html_list)\n",
    "restaurant_list = sorted(restaurant_list)"
   ]
  },
  {
   "cell_type": "markdown",
   "id": "enclosed-electricity",
   "metadata": {},
   "source": [
    "# Michelin Star Restaurants"
   ]
  },
  {
   "cell_type": "code",
   "execution_count": null,
   "id": "adaptive-shareware",
   "metadata": {},
   "outputs": [],
   "source": [
    "restaurant_data = pd.DataFrame([(restaurant.name, restaurant.cost, restaurant.distinction,\n",
    "                                 restaurant.google_rating, restaurant) for restaurant in restaurant_list],\n",
    "                               columns=[\"name\", \"cost\", \"michelin_stars\", \"google_rating\", \"restaurant\"])"
   ]
  },
  {
   "cell_type": "code",
   "execution_count": null,
   "id": "alien-pickup",
   "metadata": {},
   "outputs": [],
   "source": [
    "restaurant_data = restaurant_data.sort_values(by=[\"cost\", \"google_rating\"], ascending=[True, False]).reset_index()\n",
    "restaurant_data.head(50)"
   ]
  },
  {
   "cell_type": "markdown",
   "id": "advised-delta",
   "metadata": {},
   "source": [
    "# Bib Gourmand"
   ]
  },
  {
   "cell_type": "code",
   "execution_count": 16,
   "id": "minute-brunswick",
   "metadata": {
    "scrolled": false
   },
   "outputs": [
    {
     "data": {
      "application/vnd.jupyter.widget-view+json": {
       "model_id": "89d632617c064b25a4062521588d5275",
       "version_major": 2,
       "version_minor": 0
      },
      "text/plain": [
       "Collecting Restaurant Information:   0%|          | 0/116 [00:00<?, ? Restaurant/s]"
      ]
     },
     "metadata": {},
     "output_type": "display_data"
    }
   ],
   "source": [
    "bib_gourmand_restaurant_html_list = scrape.get_michelin_guide_restaurant_html_list(\"new york\", \"new york\", stars=\"0\")\n",
    "bib_gourmand_restaurant_list = scrape.get_convert_restaurant_html_list_to_restaurants(bib_gourmand_restaurant_html_list)\n",
    "bib_gourmand_restaurant_list = sorted(bib_gourmand_restaurant_list)"
   ]
  },
  {
   "cell_type": "code",
   "execution_count": 17,
   "id": "threaded-cuisine",
   "metadata": {
    "scrolled": true
   },
   "outputs": [
    {
     "data": {
      "text/html": [
       "<div>\n",
       "<style scoped>\n",
       "    .dataframe tbody tr th:only-of-type {\n",
       "        vertical-align: middle;\n",
       "    }\n",
       "\n",
       "    .dataframe tbody tr th {\n",
       "        vertical-align: top;\n",
       "    }\n",
       "\n",
       "    .dataframe thead th {\n",
       "        text-align: right;\n",
       "    }\n",
       "</style>\n",
       "<table border=\"1\" class=\"dataframe\">\n",
       "  <thead>\n",
       "    <tr style=\"text-align: right;\">\n",
       "      <th></th>\n",
       "      <th>index</th>\n",
       "      <th>name</th>\n",
       "      <th>cost</th>\n",
       "      <th>michelin_stars</th>\n",
       "      <th>google_rating</th>\n",
       "      <th>restaurant</th>\n",
       "    </tr>\n",
       "  </thead>\n",
       "  <tbody>\n",
       "    <tr>\n",
       "      <th>7</th>\n",
       "      <td>0</td>\n",
       "      <td>West New Malaysia</td>\n",
       "      <td>25</td>\n",
       "      <td>Bib Gourmand</td>\n",
       "      <td>4.3</td>\n",
       "      <td>West New Malaysia | Bib Gourmand | 4.3 Stars (...</td>\n",
       "    </tr>\n",
       "    <tr>\n",
       "      <th>8</th>\n",
       "      <td>3</td>\n",
       "      <td>Soba-Ya</td>\n",
       "      <td>25</td>\n",
       "      <td>Bib Gourmand</td>\n",
       "      <td>4.3</td>\n",
       "      <td>Soba-Ya | Bib Gourmand | 4.3 Stars (Google Rev...</td>\n",
       "    </tr>\n",
       "    <tr>\n",
       "      <th>9</th>\n",
       "      <td>6</td>\n",
       "      <td>Nyonya</td>\n",
       "      <td>25</td>\n",
       "      <td>Bib Gourmand</td>\n",
       "      <td>4.3</td>\n",
       "      <td>Nyonya | Bib Gourmand | 4.3 Stars (Google Revi...</td>\n",
       "    </tr>\n",
       "    <tr>\n",
       "      <th>10</th>\n",
       "      <td>7</td>\n",
       "      <td>Mile End</td>\n",
       "      <td>25</td>\n",
       "      <td>Bib Gourmand</td>\n",
       "      <td>4.3</td>\n",
       "      <td>Mile End | Bib Gourmand | 4.3 Stars (Google Re...</td>\n",
       "    </tr>\n",
       "    <tr>\n",
       "      <th>11</th>\n",
       "      <td>11</td>\n",
       "      <td>J.G. Melon</td>\n",
       "      <td>25</td>\n",
       "      <td>Bib Gourmand</td>\n",
       "      <td>4.3</td>\n",
       "      <td>J.G. Melon | Bib Gourmand | 4.3 Stars (Google ...</td>\n",
       "    </tr>\n",
       "    <tr>\n",
       "      <th>18</th>\n",
       "      <td>15</td>\n",
       "      <td>Mexicosina</td>\n",
       "      <td>30</td>\n",
       "      <td>Bib Gourmand</td>\n",
       "      <td>4.3</td>\n",
       "      <td>Mexicosina | Bib Gourmand | 4.3 Stars (Google ...</td>\n",
       "    </tr>\n",
       "    <tr>\n",
       "      <th>29</th>\n",
       "      <td>23</td>\n",
       "      <td>Xilonen</td>\n",
       "      <td>40</td>\n",
       "      <td>Bib Gourmand</td>\n",
       "      <td>4.3</td>\n",
       "      <td>Xilonen | Bib Gourmand | 4.3 Stars (Google Rev...</td>\n",
       "    </tr>\n",
       "    <tr>\n",
       "      <th>32</th>\n",
       "      <td>32</td>\n",
       "      <td>Klein's</td>\n",
       "      <td>44</td>\n",
       "      <td>Bib Gourmand</td>\n",
       "      <td>4.3</td>\n",
       "      <td>Klein's | Bib Gourmand | 4.3 Stars (Google Rev...</td>\n",
       "    </tr>\n",
       "    <tr>\n",
       "      <th>34</th>\n",
       "      <td>33</td>\n",
       "      <td>Rangoon</td>\n",
       "      <td>45</td>\n",
       "      <td>Bib Gourmand</td>\n",
       "      <td>4.3</td>\n",
       "      <td>Rangoon | Bib Gourmand | 4.3 Stars (Google Rev...</td>\n",
       "    </tr>\n",
       "    <tr>\n",
       "      <th>35</th>\n",
       "      <td>36</td>\n",
       "      <td>Beatstro</td>\n",
       "      <td>45</td>\n",
       "      <td>Bib Gourmand</td>\n",
       "      <td>4.3</td>\n",
       "      <td>Beatstro | Bib Gourmand | 4.3 Stars (Google Re...</td>\n",
       "    </tr>\n",
       "    <tr>\n",
       "      <th>79</th>\n",
       "      <td>46</td>\n",
       "      <td>Tong Sam Gyup Goo Yi</td>\n",
       "      <td>50</td>\n",
       "      <td>Bib Gourmand</td>\n",
       "      <td>4.3</td>\n",
       "      <td>Tong Sam Gyup Goo Yi | Bib Gourmand | 4.3 Star...</td>\n",
       "    </tr>\n",
       "    <tr>\n",
       "      <th>80</th>\n",
       "      <td>60</td>\n",
       "      <td>Purple Yam</td>\n",
       "      <td>50</td>\n",
       "      <td>Bib Gourmand</td>\n",
       "      <td>4.3</td>\n",
       "      <td>Purple Yam | Bib Gourmand | 4.3 Stars (Google ...</td>\n",
       "    </tr>\n",
       "    <tr>\n",
       "      <th>81</th>\n",
       "      <td>73</td>\n",
       "      <td>High Street on Hudson</td>\n",
       "      <td>50</td>\n",
       "      <td>Bib Gourmand</td>\n",
       "      <td>4.3</td>\n",
       "      <td>High Street on Hudson | Bib Gourmand | 4.3 Sta...</td>\n",
       "    </tr>\n",
       "    <tr>\n",
       "      <th>82</th>\n",
       "      <td>82</td>\n",
       "      <td>East Harbor Seafood Palace</td>\n",
       "      <td>50</td>\n",
       "      <td>Bib Gourmand</td>\n",
       "      <td>4.3</td>\n",
       "      <td>East Harbor Seafood Palace | Bib Gourmand | 4....</td>\n",
       "    </tr>\n",
       "    <tr>\n",
       "      <th>83</th>\n",
       "      <td>88</td>\n",
       "      <td>Convivium Osteria</td>\n",
       "      <td>50</td>\n",
       "      <td>Bib Gourmand</td>\n",
       "      <td>4.3</td>\n",
       "      <td>Convivium Osteria | Bib Gourmand | 4.3 Stars (...</td>\n",
       "    </tr>\n",
       "    <tr>\n",
       "      <th>84</th>\n",
       "      <td>91</td>\n",
       "      <td>Cardamom</td>\n",
       "      <td>50</td>\n",
       "      <td>Bib Gourmand</td>\n",
       "      <td>4.3</td>\n",
       "      <td>Cardamom | Bib Gourmand | 4.3 Stars (Google Re...</td>\n",
       "    </tr>\n",
       "    <tr>\n",
       "      <th>85</th>\n",
       "      <td>100</td>\n",
       "      <td>Alley 41</td>\n",
       "      <td>50</td>\n",
       "      <td>Bib Gourmand</td>\n",
       "      <td>4.3</td>\n",
       "      <td>Alley 41 | Bib Gourmand | 4.3 Stars (Google Re...</td>\n",
       "    </tr>\n",
       "    <tr>\n",
       "      <th>104</th>\n",
       "      <td>104</td>\n",
       "      <td>Maison Yaki</td>\n",
       "      <td>55</td>\n",
       "      <td>Bib Gourmand</td>\n",
       "      <td>4.3</td>\n",
       "      <td>Maison Yaki | Bib Gourmand | 4.3 Stars (Google...</td>\n",
       "    </tr>\n",
       "    <tr>\n",
       "      <th>108</th>\n",
       "      <td>107</td>\n",
       "      <td>Khe-Yo</td>\n",
       "      <td>60</td>\n",
       "      <td>Bib Gourmand</td>\n",
       "      <td>4.3</td>\n",
       "      <td>Khe-Yo | Bib Gourmand | 4.3 Stars (Google Revi...</td>\n",
       "    </tr>\n",
       "    <tr>\n",
       "      <th>113</th>\n",
       "      <td>113</td>\n",
       "      <td>Little Alley</td>\n",
       "      <td>74</td>\n",
       "      <td>Bib Gourmand</td>\n",
       "      <td>4.3</td>\n",
       "      <td>Little Alley | Bib Gourmand | 4.3 Stars (Googl...</td>\n",
       "    </tr>\n",
       "    <tr>\n",
       "      <th>115</th>\n",
       "      <td>115</td>\n",
       "      <td>Pinch Chinese</td>\n",
       "      <td>130</td>\n",
       "      <td>Bib Gourmand</td>\n",
       "      <td>4.3</td>\n",
       "      <td>Pinch Chinese | Bib Gourmand | 4.3 Stars (Goog...</td>\n",
       "    </tr>\n",
       "  </tbody>\n",
       "</table>\n",
       "</div>"
      ],
      "text/plain": [
       "     index                        name  cost michelin_stars  google_rating  \\\n",
       "7        0           West New Malaysia    25   Bib Gourmand            4.3   \n",
       "8        3                     Soba-Ya    25   Bib Gourmand            4.3   \n",
       "9        6                      Nyonya    25   Bib Gourmand            4.3   \n",
       "10       7                    Mile End    25   Bib Gourmand            4.3   \n",
       "11      11                  J.G. Melon    25   Bib Gourmand            4.3   \n",
       "18      15                  Mexicosina    30   Bib Gourmand            4.3   \n",
       "29      23                     Xilonen    40   Bib Gourmand            4.3   \n",
       "32      32                     Klein's    44   Bib Gourmand            4.3   \n",
       "34      33                     Rangoon    45   Bib Gourmand            4.3   \n",
       "35      36                    Beatstro    45   Bib Gourmand            4.3   \n",
       "79      46        Tong Sam Gyup Goo Yi    50   Bib Gourmand            4.3   \n",
       "80      60                  Purple Yam    50   Bib Gourmand            4.3   \n",
       "81      73       High Street on Hudson    50   Bib Gourmand            4.3   \n",
       "82      82  East Harbor Seafood Palace    50   Bib Gourmand            4.3   \n",
       "83      88           Convivium Osteria    50   Bib Gourmand            4.3   \n",
       "84      91                    Cardamom    50   Bib Gourmand            4.3   \n",
       "85     100                    Alley 41    50   Bib Gourmand            4.3   \n",
       "104    104                 Maison Yaki    55   Bib Gourmand            4.3   \n",
       "108    107                      Khe-Yo    60   Bib Gourmand            4.3   \n",
       "113    113                Little Alley    74   Bib Gourmand            4.3   \n",
       "115    115               Pinch Chinese   130   Bib Gourmand            4.3   \n",
       "\n",
       "                                            restaurant  \n",
       "7    West New Malaysia | Bib Gourmand | 4.3 Stars (...  \n",
       "8    Soba-Ya | Bib Gourmand | 4.3 Stars (Google Rev...  \n",
       "9    Nyonya | Bib Gourmand | 4.3 Stars (Google Revi...  \n",
       "10   Mile End | Bib Gourmand | 4.3 Stars (Google Re...  \n",
       "11   J.G. Melon | Bib Gourmand | 4.3 Stars (Google ...  \n",
       "18   Mexicosina | Bib Gourmand | 4.3 Stars (Google ...  \n",
       "29   Xilonen | Bib Gourmand | 4.3 Stars (Google Rev...  \n",
       "32   Klein's | Bib Gourmand | 4.3 Stars (Google Rev...  \n",
       "34   Rangoon | Bib Gourmand | 4.3 Stars (Google Rev...  \n",
       "35   Beatstro | Bib Gourmand | 4.3 Stars (Google Re...  \n",
       "79   Tong Sam Gyup Goo Yi | Bib Gourmand | 4.3 Star...  \n",
       "80   Purple Yam | Bib Gourmand | 4.3 Stars (Google ...  \n",
       "81   High Street on Hudson | Bib Gourmand | 4.3 Sta...  \n",
       "82   East Harbor Seafood Palace | Bib Gourmand | 4....  \n",
       "83   Convivium Osteria | Bib Gourmand | 4.3 Stars (...  \n",
       "84   Cardamom | Bib Gourmand | 4.3 Stars (Google Re...  \n",
       "85   Alley 41 | Bib Gourmand | 4.3 Stars (Google Re...  \n",
       "104  Maison Yaki | Bib Gourmand | 4.3 Stars (Google...  \n",
       "108  Khe-Yo | Bib Gourmand | 4.3 Stars (Google Revi...  \n",
       "113  Little Alley | Bib Gourmand | 4.3 Stars (Googl...  \n",
       "115  Pinch Chinese | Bib Gourmand | 4.3 Stars (Goog...  "
      ]
     },
     "execution_count": 17,
     "metadata": {},
     "output_type": "execute_result"
    }
   ],
   "source": [
    "bib_gourmand_restaurant_data = pd.DataFrame([(restaurant.name, restaurant.cost, restaurant.distinction,\n",
    "                                 restaurant.google_rating, restaurant) for restaurant in bib_gourmand_restaurant_list],\n",
    "                               columns=[\"name\", \"cost\", \"michelin_stars\", \"google_rating\", \"restaurant\"])\n",
    "\n",
    "bib_gourmand_restaurant_data = bib_gourmand_restaurant_data.sort_values(by=[\"cost\", \"google_rating\"],\n",
    "                                                                        ascending=[True, False]).reset_index()\n",
    "bib_gourmand_restaurant_data.query(\"google_rating == 4.3\").head(50)"
   ]
  },
  {
   "cell_type": "markdown",
   "id": "recreational-tolerance",
   "metadata": {},
   "source": [
    "# Yelp Data Pulling"
   ]
  },
  {
   "cell_type": "code",
   "execution_count": 28,
   "id": "amateur-thompson",
   "metadata": {},
   "outputs": [],
   "source": [
    "YELP_API_KEY = \"YGZDloqBNKFrYEY5hXc1W9oCwROWm0xtAe93k3_a1dcA8IFy-xkH4c9xxyVoQxKf796DVBLmsR24YkRCf8l73JuWDyuQi5KnV9FVIY_OMo6xFxvSmh07ZG_Vu2z9YXYx\""
   ]
  },
  {
   "cell_type": "code",
   "execution_count": 29,
   "id": "relative-signature",
   "metadata": {},
   "outputs": [],
   "source": [
    "YELP_API_HOST = 'https://api.yelp.com'\n",
    "YELP_SEARCH_PATH = '/v3/businesses/search'\n",
    "YELP_BUSINESS_PATH = '/v3/businesses/'\n",
    "\n",
    "YELP_DEFAULT_LOCATION = 'NYC'\n",
    "SEARCH_LIMIT = 3\n"
   ]
  },
  {
   "cell_type": "code",
   "execution_count": 30,
   "id": "manufactured-maintenance",
   "metadata": {},
   "outputs": [],
   "source": [
    "YELP_REQUEST_HEADER = {\n",
    "    'Authorization': f'Bearer {YELP_API_KEY}',\n",
    "}\n",
    "\n",
    "\n",
    "def get_yelp_restaurants(term: str, location: str = YELP_DEFAULT_LOCATION, **params: dict):\n",
    "    \"\"\"\n",
    "    suggested search terms:\n",
    "    \n",
    "    radius: in meters\n",
    "    limit: max items to return (max value is 50)\n",
    "    offset: list offset number\n",
    "    sort_by: best_match, rating, review_count or distance\n",
    "    price: 1 = $, 2 = $$, 3 = $$$, 4 = $$$$, example: 1,2,4\n",
    "    \n",
    "    \"\"\"\n",
    "    url_form = YELP_API_HOST + YELP_SEARCH_PATH + \"?\"\n",
    "    url_form = f\"{url_form}?term={term}&location={location}\"\n",
    "    for key, value in params.items():\n",
    "        url_form += f\"&{key}={value}\"\n",
    "\n",
    "    req = requests.request('GET', url_form, headers=YELP_REQUEST_HEADER)\n",
    "    return req\n",
    "\n",
    "\n",
    "def get_all_yelp_restaurants(term: str, location: str = YELP_DEFAULT_LOCATION, top=None, offset: int = 0,\n",
    "                             **params: dict):\n",
    "    \"\"\"\"\"\"\n",
    "    limit = 50\n",
    "    \n",
    "    assert \"limit\" not in params and \"offset\" not in params\n",
    "    \n",
    "    top = min(999, top)\n",
    "    params[\"limit\"] = limit\n",
    "    params[\"offset\"] = offset\n",
    "    restaurant_data = get_yelp_restaurants(term, location=location, **params).json()\n",
    "    total_restaurants = restaurant_data[\"total\"]\n",
    "    \n",
    "    if total_restaurants == 0:\n",
    "        raise ValueError(\"No restaurants found.\")\n",
    "    \n",
    "    if total_restaurants < limit:\n",
    "        return restaurant_data\n",
    "\n",
    "    max_index = top // limit if top else total_restaurants // limit\n",
    "    \n",
    "    pbar = tqdm(total=max_index * 50, unit=\" restaurants\", desc=\"Gathering Restaurant Data\")\n",
    "    \n",
    "    for pull_index in range(max_index):\n",
    "        params[\"offset\"] += 50\n",
    "        additional_restaurant_data = get_yelp_restaurants(term, location=location, **params).json()\n",
    "        if len(additional_restaurant_data) == 0:\n",
    "            break\n",
    "        restaurant_data[\"businesses\"] += additional_restaurant_data[\"businesses\"]\n",
    "        time.sleep(1.1)\n",
    "        pbar.update(50)\n",
    "    \n",
    "    return restaurant_data\n",
    "\n",
    "req = get_yelp_restaurants(\"restaurant\", price=\"4\", sort_by=\"rating\")"
   ]
  },
  {
   "cell_type": "code",
   "execution_count": 42,
   "id": "de4e3293",
   "metadata": {},
   "outputs": [],
   "source": [
    "import sys\n",
    "sys.path.append(\"../helpers/\")\n",
    "import helpers\n",
    "\n",
    "\n",
    "def cached_function(path, function, *args, overwrite: bool = False, **params):\n",
    "    \"\"\"\"\"\"\n",
    "    if os.path.exists(path) and not overwrite:\n",
    "        return helpers.pickle_load(path)\n",
    "\n",
    "    data = function(*args, **params)\n",
    "    helpers.pickle_dump(data, path)\n",
    "    return data"
   ]
  },
  {
   "cell_type": "code",
   "execution_count": 47,
   "id": "a862b527",
   "metadata": {},
   "outputs": [],
   "source": [
    "data = cached_function(\"yelp_data.pkl\", get_all_yelp_restaurants,\n",
    "                       \"restaurant\", price=\"1\", sort_by=\"rating\", location=\"NYC\", top=1000, overwrite=False)"
   ]
  },
  {
   "cell_type": "code",
   "execution_count": 48,
   "id": "balanced-waste",
   "metadata": {},
   "outputs": [],
   "source": [
    "columns = ['name', 'review_count', 'rating', 'id', 'alias']\n",
    "\n",
    "restaurant_list = []\n",
    "for restaurant in data[\"businesses\"]:\n",
    "    row = [restaurant[key] for key in columns]\n",
    "    row.append(\", \".join(item[\"title\"] for item in restaurant[\"categories\"]))\n",
    "    row.append(\", \".join(restaurant[\"location\"][\"display_address\"]))\n",
    "    restaurant_list.append(row)\n",
    "    \n",
    "restaurant_data = pd.DataFrame(restaurant_list, columns=columns + [\"categories\", \"address\"])"
   ]
  },
  {
   "cell_type": "code",
   "execution_count": 49,
   "id": "29da92e7",
   "metadata": {},
   "outputs": [
    {
     "data": {
      "text/html": [
       "<div>\n",
       "<style scoped>\n",
       "    .dataframe tbody tr th:only-of-type {\n",
       "        vertical-align: middle;\n",
       "    }\n",
       "\n",
       "    .dataframe tbody tr th {\n",
       "        vertical-align: top;\n",
       "    }\n",
       "\n",
       "    .dataframe thead th {\n",
       "        text-align: right;\n",
       "    }\n",
       "</style>\n",
       "<table border=\"1\" class=\"dataframe\">\n",
       "  <thead>\n",
       "    <tr style=\"text-align: right;\">\n",
       "      <th></th>\n",
       "      <th>name</th>\n",
       "      <th>review_count</th>\n",
       "      <th>rating</th>\n",
       "      <th>id</th>\n",
       "      <th>alias</th>\n",
       "      <th>categories</th>\n",
       "      <th>address</th>\n",
       "    </tr>\n",
       "  </thead>\n",
       "  <tbody>\n",
       "    <tr>\n",
       "      <th>0</th>\n",
       "      <td>Frenchy's Food Truck</td>\n",
       "      <td>96</td>\n",
       "      <td>5.0</td>\n",
       "      <td>nSUIB7itn5ufTUzwa1IgxA</td>\n",
       "      <td>frenchys-food-truck-brooklyn</td>\n",
       "      <td>Coffee &amp; Tea, Food Trucks, Patisserie/Cake Shop</td>\n",
       "      <td>341 Eastern Pkwy, Brooklyn, NY 11238</td>\n",
       "    </tr>\n",
       "    <tr>\n",
       "      <th>1</th>\n",
       "      <td>Whistle &amp; Fizz</td>\n",
       "      <td>245</td>\n",
       "      <td>5.0</td>\n",
       "      <td>OPiO2ZuK4M2f55qmuNfWUQ</td>\n",
       "      <td>whistle-and-fizz-new-york-4</td>\n",
       "      <td>Coffee &amp; Tea</td>\n",
       "      <td>254 Greene St, New York, NY 10003</td>\n",
       "    </tr>\n",
       "    <tr>\n",
       "      <th>2</th>\n",
       "      <td>Juice Vitality</td>\n",
       "      <td>217</td>\n",
       "      <td>5.0</td>\n",
       "      <td>ytYVlCkrzcAxxUcbT4NTgA</td>\n",
       "      <td>juice-vitality-new-york</td>\n",
       "      <td>Juice Bars &amp; Smoothies, Bubble Tea, Acai Bowls</td>\n",
       "      <td>192 1st Ave, New York, NY 10009</td>\n",
       "    </tr>\n",
       "    <tr>\n",
       "      <th>3</th>\n",
       "      <td>Pabade Cafe and Bakery</td>\n",
       "      <td>64</td>\n",
       "      <td>5.0</td>\n",
       "      <td>4OjAtoUyYI5CRn1iY3iH_w</td>\n",
       "      <td>pabade-cafe-and-bakery-new-york-2</td>\n",
       "      <td>Coffee &amp; Tea, Bakeries, Cafes</td>\n",
       "      <td>135 East 110 St, New York, NY 10029</td>\n",
       "    </tr>\n",
       "    <tr>\n",
       "      <th>4</th>\n",
       "      <td>Tres Leches Cafe - Harlem</td>\n",
       "      <td>166</td>\n",
       "      <td>5.0</td>\n",
       "      <td>lqnI_jISnH7RZWlPtKkViQ</td>\n",
       "      <td>tres-leches-cafe-harlem-new-york</td>\n",
       "      <td>Bakeries, Desserts, Latin American</td>\n",
       "      <td>356 E 112th St, New York, NY 10029</td>\n",
       "    </tr>\n",
       "    <tr>\n",
       "      <th>...</th>\n",
       "      <td>...</td>\n",
       "      <td>...</td>\n",
       "      <td>...</td>\n",
       "      <td>...</td>\n",
       "      <td>...</td>\n",
       "      <td>...</td>\n",
       "      <td>...</td>\n",
       "    </tr>\n",
       "    <tr>\n",
       "      <th>995</th>\n",
       "      <td>Tawa Food</td>\n",
       "      <td>86</td>\n",
       "      <td>4.0</td>\n",
       "      <td>LaMbEoM5Vw9CQP5usaD2xA</td>\n",
       "      <td>tawa-food-jackson-heights</td>\n",
       "      <td>Himalayan/Nepalese</td>\n",
       "      <td>3738 72nd St, Jackson Heights, NY 11372</td>\n",
       "    </tr>\n",
       "    <tr>\n",
       "      <th>996</th>\n",
       "      <td>Daily Press Coffee and Bar</td>\n",
       "      <td>85</td>\n",
       "      <td>4.0</td>\n",
       "      <td>KGAF6jKzyQ9fDbtUm_iHWQ</td>\n",
       "      <td>daily-press-coffee-and-bar-brooklyn</td>\n",
       "      <td>Coffee &amp; Tea, Bars, Breakfast &amp; Brunch</td>\n",
       "      <td>38 Somers St, Brooklyn, NY 11233</td>\n",
       "    </tr>\n",
       "    <tr>\n",
       "      <th>997</th>\n",
       "      <td>Vincent's Deli &amp; Pizzeria</td>\n",
       "      <td>48</td>\n",
       "      <td>4.5</td>\n",
       "      <td>jHv7rAWtDG50AmZlGJGhqg</td>\n",
       "      <td>vincents-deli-and-pizzeria-staten-island</td>\n",
       "      <td>Italian, Delis, Pizza</td>\n",
       "      <td>500 Henderson Ave, Staten Island, NY 10310</td>\n",
       "    </tr>\n",
       "    <tr>\n",
       "      <th>998</th>\n",
       "      <td>Peter Dillon's</td>\n",
       "      <td>84</td>\n",
       "      <td>4.0</td>\n",
       "      <td>89cuk6IhTJbmk27_N8G3Ew</td>\n",
       "      <td>peter-dillons-new-york-4</td>\n",
       "      <td>Irish Pub</td>\n",
       "      <td>2 E 36th St, New York, NY 10016</td>\n",
       "    </tr>\n",
       "    <tr>\n",
       "      <th>999</th>\n",
       "      <td>Two Crepes</td>\n",
       "      <td>78</td>\n",
       "      <td>4.0</td>\n",
       "      <td>ZZ-zJbCLfXCNXZgKq3Shcw</td>\n",
       "      <td>two-crepes-union-city</td>\n",
       "      <td>Creperies, Desserts, Breakfast &amp; Brunch</td>\n",
       "      <td>4301 Park Ave, Union City, NJ 07087</td>\n",
       "    </tr>\n",
       "  </tbody>\n",
       "</table>\n",
       "<p>1000 rows × 7 columns</p>\n",
       "</div>"
      ],
      "text/plain": [
       "                           name  review_count  rating                      id  \\\n",
       "0          Frenchy's Food Truck            96     5.0  nSUIB7itn5ufTUzwa1IgxA   \n",
       "1                Whistle & Fizz           245     5.0  OPiO2ZuK4M2f55qmuNfWUQ   \n",
       "2                Juice Vitality           217     5.0  ytYVlCkrzcAxxUcbT4NTgA   \n",
       "3        Pabade Cafe and Bakery            64     5.0  4OjAtoUyYI5CRn1iY3iH_w   \n",
       "4     Tres Leches Cafe - Harlem           166     5.0  lqnI_jISnH7RZWlPtKkViQ   \n",
       "..                          ...           ...     ...                     ...   \n",
       "995                   Tawa Food            86     4.0  LaMbEoM5Vw9CQP5usaD2xA   \n",
       "996  Daily Press Coffee and Bar            85     4.0  KGAF6jKzyQ9fDbtUm_iHWQ   \n",
       "997   Vincent's Deli & Pizzeria            48     4.5  jHv7rAWtDG50AmZlGJGhqg   \n",
       "998              Peter Dillon's            84     4.0  89cuk6IhTJbmk27_N8G3Ew   \n",
       "999                  Two Crepes            78     4.0  ZZ-zJbCLfXCNXZgKq3Shcw   \n",
       "\n",
       "                                        alias  \\\n",
       "0                frenchys-food-truck-brooklyn   \n",
       "1                 whistle-and-fizz-new-york-4   \n",
       "2                     juice-vitality-new-york   \n",
       "3           pabade-cafe-and-bakery-new-york-2   \n",
       "4            tres-leches-cafe-harlem-new-york   \n",
       "..                                        ...   \n",
       "995                 tawa-food-jackson-heights   \n",
       "996       daily-press-coffee-and-bar-brooklyn   \n",
       "997  vincents-deli-and-pizzeria-staten-island   \n",
       "998                  peter-dillons-new-york-4   \n",
       "999                     two-crepes-union-city   \n",
       "\n",
       "                                          categories  \\\n",
       "0    Coffee & Tea, Food Trucks, Patisserie/Cake Shop   \n",
       "1                                       Coffee & Tea   \n",
       "2     Juice Bars & Smoothies, Bubble Tea, Acai Bowls   \n",
       "3                      Coffee & Tea, Bakeries, Cafes   \n",
       "4                 Bakeries, Desserts, Latin American   \n",
       "..                                               ...   \n",
       "995                               Himalayan/Nepalese   \n",
       "996           Coffee & Tea, Bars, Breakfast & Brunch   \n",
       "997                            Italian, Delis, Pizza   \n",
       "998                                        Irish Pub   \n",
       "999          Creperies, Desserts, Breakfast & Brunch   \n",
       "\n",
       "                                        address  \n",
       "0          341 Eastern Pkwy, Brooklyn, NY 11238  \n",
       "1             254 Greene St, New York, NY 10003  \n",
       "2               192 1st Ave, New York, NY 10009  \n",
       "3           135 East 110 St, New York, NY 10029  \n",
       "4            356 E 112th St, New York, NY 10029  \n",
       "..                                          ...  \n",
       "995     3738 72nd St, Jackson Heights, NY 11372  \n",
       "996            38 Somers St, Brooklyn, NY 11233  \n",
       "997  500 Henderson Ave, Staten Island, NY 10310  \n",
       "998             2 E 36th St, New York, NY 10016  \n",
       "999         4301 Park Ave, Union City, NJ 07087  \n",
       "\n",
       "[1000 rows x 7 columns]"
      ]
     },
     "execution_count": 49,
     "metadata": {},
     "output_type": "execute_result"
    }
   ],
   "source": [
    "restaurant_data"
   ]
  },
  {
   "cell_type": "code",
   "execution_count": 50,
   "id": "strong-startup",
   "metadata": {},
   "outputs": [
    {
     "data": {
      "text/plain": [
       "(array([286.,   0.,   0.,   0.,   0., 634.,   0.,   0.,   0.,  80.]),\n",
       " array([4. , 4.1, 4.2, 4.3, 4.4, 4.5, 4.6, 4.7, 4.8, 4.9, 5. ]),\n",
       " <BarContainer object of 10 artists>)"
      ]
     },
     "execution_count": 50,
     "metadata": {},
     "output_type": "execute_result"
    },
    {
     "data": {
      "image/png": "[encoded data removed]",
      "text/plain": [
       "<Figure size 432x288 with 1 Axes>"
      ]
     },
     "metadata": {
      "needs_background": "light"
     },
     "output_type": "display_data"
    }
   ],
   "source": [
    "plt.hist(restaurant_data[\"rating\"])"
   ]
  },
  {
   "cell_type": "code",
   "execution_count": null,
   "id": "345b14b6",
   "metadata": {},
   "outputs": [
    {
     "data": {
      "application/vnd.jupyter.widget-view+json": {
       "model_id": "fec4fc04746d4ac9b93dfcf15d44f5a5",
       "version_major": 2,
       "version_minor": 0
      },
      "text/plain": [
       "Fetching Google Reviews:   0%|          | 0/1000 [00:00<?, ? Restaurant/s]"
      ]
     },
     "metadata": {},
     "output_type": "display_data"
    }
   ],
   "source": [
    "restaurant_data[\"google_review\"] = get_google_rating(restaurant_data[\"alias\"])"
   ]
  },
  {
   "cell_type": "code",
   "execution_count": null,
   "id": "93d10122",
   "metadata": {},
   "outputs": [],
   "source": [
    "restaurant_data"
   ]
  },
  {
   "cell_type": "code",
   "execution_count": null,
   "id": "751525d1",
   "metadata": {},
   "outputs": [],
   "source": []
  },
  {
   "cell_type": "code",
   "execution_count": null,
   "id": "configured-istanbul",
   "metadata": {},
   "outputs": [],
   "source": [
    "t = YelpRestaurant(data[\"businesses\"][0])\n",
    "vars(t)"
   ]
  },
  {
   "cell_type": "code",
   "execution_count": null,
   "id": "heavy-gilbert",
   "metadata": {},
   "outputs": [],
   "source": []
  },
  {
   "cell_type": "code",
   "execution_count": null,
   "id": "stuck-brunswick",
   "metadata": {},
   "outputs": [],
   "source": [
    "class YelpRestaurant:\n",
    "    def __init__(self, yelp_data: dict):\n",
    "        for key, value in yelp_data.items():\n",
    "            self.__dict__[key] = value\n",
    "        \n",
    "        self.google_rating = get_google_rating(f\"{self.alias}\")"
   ]
  },
  {
   "cell_type": "code",
   "execution_count": null,
   "id": "harmful-helicopter",
   "metadata": {},
   "outputs": [],
   "source": [
    "data[\"businesses\"][3]"
   ]
  },
  {
   "cell_type": "code",
   "execution_count": null,
   "id": "dietary-playing",
   "metadata": {},
   "outputs": [],
   "source": []
  }
 ],
 "metadata": {
  "kernelspec": {
   "display_name": "Python 3 (ipykernel)",
   "language": "python",
   "name": "python3"
  },
  "language_info": {
   "codemirror_mode": {
    "name": "ipython",
    "version": 3
   },
   "file_extension": ".py",
   "mimetype": "text/x-python",
   "name": "python",
   "nbconvert_exporter": "python",
   "pygments_lexer": "ipython3",
   "version": "3.8.13"
  }
 },
 "nbformat": 4,
 "nbformat_minor": 5
}
