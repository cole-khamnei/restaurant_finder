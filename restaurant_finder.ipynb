{
 "cells": [
  {
   "cell_type": "code",
   "execution_count": 1,
   "id": "hungarian-baghdad",
   "metadata": {},
   "outputs": [],
   "source": [
    "import json\n",
    "import sys\n",
    "\n",
    "import matplotlib.pyplot as plt\n",
    "import numpy as np\n",
    "import pandas as pd\n",
    "import seaborn as sns\n",
    "\n",
    "from tqdm.notebook import tqdm\n",
    "\n",
    "import scrape\n",
    "import yelp\n",
    "import constants\n",
    "\n",
    "sys.path.append(\"../helpers/\")\n",
    "import helpers\n",
    "\n",
    "%load_ext autoreload\n",
    "%autoreload 2"
   ]
  },
  {
   "cell_type": "code",
   "execution_count": 2,
   "id": "prospective-summer",
   "metadata": {},
   "outputs": [],
   "source": [
    "import nord_vpn\n",
    "\n",
    "from sys import platform\n",
    "\n",
    "if platform != \"darwin\":\n",
    "    pass\n",
    "    vpn = nord_vpn.NordVPN()\n",
    "    vpn.connect()\n",
    "    vpn.disconnect()\n",
    "    vpn.check_status()"
   ]
  },
  {
   "cell_type": "code",
   "execution_count": 3,
   "id": "indoor-fairy",
   "metadata": {},
   "outputs": [
    {
     "name": "stdout",
     "output_type": "stream",
     "text": [
      "https://guide.michelin.com/us/en/new-york-state/new-york/restaurants/1-star-michelin\n"
     ]
    }
   ],
   "source": [
    "url = scrape.get_michelin_guide_url(\"new york\", \"new york\", stars=\"1\")\n",
    "print(url)"
   ]
  },
  {
   "cell_type": "code",
   "execution_count": 4,
   "id": "explicit-inspiration",
   "metadata": {},
   "outputs": [],
   "source": [
    "restaurant_html_list = scrape.get_michelin_guide_restaurant_html_list(\"new york\", \"new york\", stars=\"3\")\n",
    "restaurant_html = restaurant_html_list[0]"
   ]
  },
  {
   "cell_type": "code",
   "execution_count": 5,
   "id": "exterior-assessment",
   "metadata": {},
   "outputs": [
    {
     "name": "stdout",
     "output_type": "stream",
     "text": [
      "['355', 'USD', '•', 'Contemporary', 'French']\n"
     ]
    },
    {
     "data": {
      "text/plain": [
       "Per Se | 3 Stars | 4.6 Stars (Google Reviews)| 355"
      ]
     },
     "execution_count": 5,
     "metadata": {},
     "output_type": "execute_result"
    }
   ],
   "source": [
    "scrape.MichelinRestaurant(restaurant_html_list[1])"
   ]
  },
  {
   "cell_type": "code",
   "execution_count": 6,
   "id": "pregnant-concentrate",
   "metadata": {},
   "outputs": [],
   "source": [
    "# restaurant_html_list = scrape.get_michelin_guide_restaurant_html_list(\"new york\", \"new york\", stars=\"1+\")\n",
    "# restaurant_list = scrape.get_convert_restaurant_html_list_to_restaurants(restaurant_html_list)\n",
    "# restaurant_list = sorted(restaurant_list)"
   ]
  },
  {
   "cell_type": "markdown",
   "id": "enclosed-electricity",
   "metadata": {},
   "source": [
    "# Michelin Star Restaurants"
   ]
  },
  {
   "cell_type": "code",
   "execution_count": 7,
   "id": "adaptive-shareware",
   "metadata": {},
   "outputs": [],
   "source": [
    "# restaurant_data = pd.DataFrame([(restaurant.name, restaurant.cost, restaurant.distinction,\n",
    "#                                  restaurant.google_rating, restaurant) for restaurant in restaurant_list],\n",
    "#                                columns=[\"name\", \"cost\", \"michelin_stars\", \"google_rating\", \"restaurant\"])"
   ]
  },
  {
   "cell_type": "code",
   "execution_count": 8,
   "id": "alien-pickup",
   "metadata": {},
   "outputs": [],
   "source": [
    "# restaurant_data = restaurant_data.sort_values(by=[\"cost\", \"google_rating\"], ascending=[True, False]).reset_index()\n",
    "# restaurant_data.head(50)"
   ]
  },
  {
   "cell_type": "markdown",
   "id": "advised-delta",
   "metadata": {},
   "source": [
    "# Bib Gourmand"
   ]
  },
  {
   "cell_type": "code",
   "execution_count": 9,
   "id": "minute-brunswick",
   "metadata": {
    "scrolled": false
   },
   "outputs": [],
   "source": [
    "# bib_gourmand_restaurant_html_list = scrape.get_michelin_guide_restaurant_html_list(\"new york\", \"new york\", stars=\"0\")\n",
    "# bib_gourmand_restaurant_list = scrape.get_convert_restaurant_html_list_to_restaurants(bib_gourmand_restaurant_html_list)\n",
    "# bib_gourmand_restaurant_list = sorted(bib_gourmand_restaurant_list)"
   ]
  },
  {
   "cell_type": "code",
   "execution_count": 10,
   "id": "threaded-cuisine",
   "metadata": {
    "scrolled": false
   },
   "outputs": [],
   "source": [
    "# bib_gourmand_restaurant_data = pd.DataFrame([(restaurant.name, restaurant.cost, restaurant.distinction,\n",
    "#                                  restaurant.google_rating, restaurant) for restaurant in bib_gourmand_restaurant_list],\n",
    "#                                columns=[\"name\", \"cost\", \"michelin_stars\", \"google_rating\", \"restaurant\"])\n",
    "\n",
    "# bib_gourmand_restaurant_data = bib_gourmand_restaura`nt_data.sort_values(by=[\"cost\", \"google_rating\"],\n",
    "#                                                                         ascending=[True, False]).reset_index()\n",
    "# bib_gourmand_restaurant_data.query(\"google_rating == 4.3\").head(50)"
   ]
  },
  {
   "cell_type": "markdown",
   "id": "recreational-tolerance",
   "metadata": {},
   "source": [
    "# Yelp Data Pulling"
   ]
  },
  {
   "cell_type": "code",
   "execution_count": 13,
   "id": "1728adbc",
   "metadata": {},
   "outputs": [],
   "source": [
    "overwrite = True"
   ]
  },
  {
   "cell_type": "code",
   "execution_count": 14,
   "id": "manufactured-maintenance",
   "metadata": {},
   "outputs": [],
   "source": [
    "req = yelp.get_restaurants(\"restaurant\", price=\"4\", sort_by=\"rating\")"
   ]
  },
  {
   "cell_type": "code",
   "execution_count": 15,
   "id": "bf8b9b2a",
   "metadata": {},
   "outputs": [],
   "source": [
    "def add_google_review_data(data):\n",
    "    \"\"\"\"\"\"\n",
    "    data[\"google_review\"] = scrape.get_google_rating(data[\"alias\"], anti_dos_delay=.1)\n",
    "    return data"
   ]
  },
  {
   "cell_type": "code",
   "execution_count": null,
   "id": "a862b527",
   "metadata": {},
   "outputs": [
    {
     "data": {
      "application/vnd.jupyter.widget-view+json": {
       "model_id": "ef6e553ab41949d59989625852fa797e",
       "version_major": 2,
       "version_minor": 0
      },
      "text/plain": [
       "Gathering Restaurant Data:   0%|          | 0/3996 [00:00<?, ? restaurants/s]"
      ]
     },
     "metadata": {},
     "output_type": "display_data"
    }
   ],
   "source": [
    "data = helpers.cached_function(f\"data/yelp_data.pkl\", yelp.get_all_restaurants,\n",
    "                               \"restaurant\", price=\"1,2,3,4\", sort_by=\"rating\", location=\"NYC\", top=1000,\n",
    "                               per_price=True, overwrite=False)\n"
   ]
  },
  {
   "cell_type": "code",
   "execution_count": null,
   "id": "5729471a",
   "metadata": {},
   "outputs": [],
   "source": [
    "restaurant_data = yelp.yelp_data_to_restaurant_df(data)"
   ]
  },
  {
   "cell_type": "code",
   "execution_count": null,
   "id": "9d091cd1",
   "metadata": {},
   "outputs": [],
   "source": [
    "restaurant_data"
   ]
  },
  {
   "cell_type": "code",
   "execution_count": null,
   "id": "e74fb1f4",
   "metadata": {},
   "outputs": [],
   "source": []
  },
  {
   "cell_type": "code",
   "execution_count": null,
   "id": "069c6ef8",
   "metadata": {},
   "outputs": [
    {
     "data": {
      "application/vnd.jupyter.widget-view+json": {
       "model_id": "883389f6c4294b56a7ed6b929830a28c",
       "version_major": 2,
       "version_minor": 0
      },
      "text/plain": [
       "Fetching Google Reviews:   0%|          | 0/150 [00:00<?, ? Restaurant/s]"
      ]
     },
     "metadata": {},
     "output_type": "display_data"
    },
    {
     "name": "stderr",
     "output_type": "stream",
     "text": [
      "\r",
      "Gathering Restaurant Data:  11%|█████████████                                                                                                               | 100/950 [00:17<00:32, 26.29 restaurants/s]"
     ]
    }
   ],
   "source": [
    "restaurant_data = helpers.cached_function(\"data/yelp_data_with_google_reviews.pkl\",\n",
    "                                          add_google_review_data, restaurant_data, overwrite=overwrite)"
   ]
  },
  {
   "cell_type": "code",
   "execution_count": 16,
   "id": "876aca40",
   "metadata": {},
   "outputs": [
    {
     "data": {
      "image/png": "[encoded data removed]",
      "text/plain": [
       "<Figure size 1008x360 with 1 Axes>"
      ]
     },
     "metadata": {
      "needs_background": "light"
     },
     "output_type": "display_data"
    }
   ],
   "source": [
    "fig, ax = plt.subplots(figsize=(14, 5))\n",
    "sns.boxplot(data=restaurant_data, x=\"rating\", y=\"google_review\", ax=ax)\n",
    "helpers.add_plt_labels(ax, x=\"Yelp Rating\", y=\"Google Rating\")"
   ]
  },
  {
   "cell_type": "code",
   "execution_count": 18,
   "id": "751525d1",
   "metadata": {},
   "outputs": [
    {
     "data": {
      "text/html": [
       "<div>\n",
       "<style scoped>\n",
       "    .dataframe tbody tr th:only-of-type {\n",
       "        vertical-align: middle;\n",
       "    }\n",
       "\n",
       "    .dataframe tbody tr th {\n",
       "        vertical-align: top;\n",
       "    }\n",
       "\n",
       "    .dataframe thead th {\n",
       "        text-align: right;\n",
       "    }\n",
       "</style>\n",
       "<table border=\"1\" class=\"dataframe\">\n",
       "  <thead>\n",
       "    <tr style=\"text-align: right;\">\n",
       "      <th></th>\n",
       "      <th>name</th>\n",
       "      <th>review_count</th>\n",
       "      <th>rating</th>\n",
       "      <th>id</th>\n",
       "      <th>alias</th>\n",
       "      <th>categories</th>\n",
       "      <th>address</th>\n",
       "      <th>google_review</th>\n",
       "    </tr>\n",
       "  </thead>\n",
       "  <tbody>\n",
       "    <tr>\n",
       "      <th>95</th>\n",
       "      <td>Tacos El Bronco</td>\n",
       "      <td>190</td>\n",
       "      <td>4.5</td>\n",
       "      <td>9MWmRzKbw6-OR8O1fYa2fw</td>\n",
       "      <td>tacos-el-bronco-brooklyn-7</td>\n",
       "      <td>Food Trucks, Mexican, Burgers</td>\n",
       "      <td>37th St &amp; 5th Ave, Brooklyn, NY 11232</td>\n",
       "      <td>4.3</td>\n",
       "    </tr>\n",
       "    <tr>\n",
       "      <th>113</th>\n",
       "      <td>Semicolon Cafe</td>\n",
       "      <td>84</td>\n",
       "      <td>4.5</td>\n",
       "      <td>-HpCsFpk8PwFpbmEELmg6g</td>\n",
       "      <td>semicolon-cafe-new-york</td>\n",
       "      <td>Coffee &amp; Tea, Sandwiches</td>\n",
       "      <td>9 Edward M Morgan Pl, New York, NY 10032</td>\n",
       "      <td>4.3</td>\n",
       "    </tr>\n",
       "    <tr>\n",
       "      <th>102</th>\n",
       "      <td>Wafels &amp; Dinges</td>\n",
       "      <td>1535</td>\n",
       "      <td>4.5</td>\n",
       "      <td>xJSH3EM1iZtOh4WZti4qjg</td>\n",
       "      <td>wafels-and-dinges-new-york</td>\n",
       "      <td>Waffles, Food Trucks, Ice Cream &amp; Frozen Yogurt</td>\n",
       "      <td>New York, NY 10011</td>\n",
       "      <td>4.4</td>\n",
       "    </tr>\n",
       "    <tr>\n",
       "      <th>19</th>\n",
       "      <td>Royal Grill Halal Food</td>\n",
       "      <td>467</td>\n",
       "      <td>4.5</td>\n",
       "      <td>UtknyDJ_DPut-FKRqs0wpQ</td>\n",
       "      <td>royal-grill-halal-food-new-york-2</td>\n",
       "      <td>Halal, Food Trucks, Indian</td>\n",
       "      <td>44TH St And 6th Ave, New York, NY 10018</td>\n",
       "      <td>4.4</td>\n",
       "    </tr>\n",
       "    <tr>\n",
       "      <th>133</th>\n",
       "      <td>Wafels &amp; Dinges</td>\n",
       "      <td>194</td>\n",
       "      <td>4.5</td>\n",
       "      <td>pUMaj8PvI1--cSB7gMEhXA</td>\n",
       "      <td>wafels-and-dinges-new-york-4</td>\n",
       "      <td>Food Stands, Waffles, Belgian</td>\n",
       "      <td>Broadway &amp; 66th St, Goesting Cart, New York, N...</td>\n",
       "      <td>4.4</td>\n",
       "    </tr>\n",
       "    <tr>\n",
       "      <th>...</th>\n",
       "      <td>...</td>\n",
       "      <td>...</td>\n",
       "      <td>...</td>\n",
       "      <td>...</td>\n",
       "      <td>...</td>\n",
       "      <td>...</td>\n",
       "      <td>...</td>\n",
       "      <td>...</td>\n",
       "    </tr>\n",
       "    <tr>\n",
       "      <th>54</th>\n",
       "      <td>The Blue Light Speak Cheesy</td>\n",
       "      <td>85</td>\n",
       "      <td>5.0</td>\n",
       "      <td>RjzLEoOUfLIah2Itfd2HdA</td>\n",
       "      <td>the-blue-light-speak-cheesy-brooklyn-9</td>\n",
       "      <td>Sandwiches, Breakfast &amp; Brunch, Pop-Up Restaur...</td>\n",
       "      <td>158 Green St, Brooklyn, NY 11222</td>\n",
       "      <td>5.0</td>\n",
       "    </tr>\n",
       "    <tr>\n",
       "      <th>81</th>\n",
       "      <td>Zongzi lady</td>\n",
       "      <td>67</td>\n",
       "      <td>5.0</td>\n",
       "      <td>VQ5YGa4L4AT3ugF61hM9qQ</td>\n",
       "      <td>zongzi-lady-new-york</td>\n",
       "      <td>Street Vendors, Chinese</td>\n",
       "      <td>Chrystie St Grand St, New York, NY 10002</td>\n",
       "      <td>5.0</td>\n",
       "    </tr>\n",
       "    <tr>\n",
       "      <th>78</th>\n",
       "      <td>Burmese Bites</td>\n",
       "      <td>88</td>\n",
       "      <td>4.5</td>\n",
       "      <td>YtU1rb_oDHTbYzl-NFglPQ</td>\n",
       "      <td>burmese-bites-elmhurst-2</td>\n",
       "      <td>Burmese</td>\n",
       "      <td>90-15 Queens Blvd, Elmhurst, NY 11373</td>\n",
       "      <td>5.0</td>\n",
       "    </tr>\n",
       "    <tr>\n",
       "      <th>99</th>\n",
       "      <td>Aromas Boutique Bakery</td>\n",
       "      <td>36</td>\n",
       "      <td>5.0</td>\n",
       "      <td>2IpbquaH7zUNnAVw_rLPLQ</td>\n",
       "      <td>aromas-boutique-bakery-new-york</td>\n",
       "      <td>Bakeries, Custom Cakes</td>\n",
       "      <td>New York, NY 10029</td>\n",
       "      <td>5.0</td>\n",
       "    </tr>\n",
       "    <tr>\n",
       "      <th>94</th>\n",
       "      <td>Ample Hills Creamery</td>\n",
       "      <td>598</td>\n",
       "      <td>4.5</td>\n",
       "      <td>Xv4kqYmtB7svT0r1-ABlZg</td>\n",
       "      <td>ample-hills-creamery-brooklyn-5</td>\n",
       "      <td>Ice Cream &amp; Frozen Yogurt, Desserts, Custom Cakes</td>\n",
       "      <td>305 Nevins St, Brooklyn, NY 11215</td>\n",
       "      <td>NaN</td>\n",
       "    </tr>\n",
       "  </tbody>\n",
       "</table>\n",
       "<p>150 rows × 8 columns</p>\n",
       "</div>"
      ],
      "text/plain": [
       "                            name  review_count  rating  \\\n",
       "95               Tacos El Bronco           190     4.5   \n",
       "113               Semicolon Cafe            84     4.5   \n",
       "102              Wafels & Dinges          1535     4.5   \n",
       "19        Royal Grill Halal Food           467     4.5   \n",
       "133              Wafels & Dinges           194     4.5   \n",
       "..                           ...           ...     ...   \n",
       "54   The Blue Light Speak Cheesy            85     5.0   \n",
       "81                   Zongzi lady            67     5.0   \n",
       "78                 Burmese Bites            88     4.5   \n",
       "99        Aromas Boutique Bakery            36     5.0   \n",
       "94          Ample Hills Creamery           598     4.5   \n",
       "\n",
       "                         id                                   alias  \\\n",
       "95   9MWmRzKbw6-OR8O1fYa2fw              tacos-el-bronco-brooklyn-7   \n",
       "113  -HpCsFpk8PwFpbmEELmg6g                 semicolon-cafe-new-york   \n",
       "102  xJSH3EM1iZtOh4WZti4qjg              wafels-and-dinges-new-york   \n",
       "19   UtknyDJ_DPut-FKRqs0wpQ       royal-grill-halal-food-new-york-2   \n",
       "133  pUMaj8PvI1--cSB7gMEhXA            wafels-and-dinges-new-york-4   \n",
       "..                      ...                                     ...   \n",
       "54   RjzLEoOUfLIah2Itfd2HdA  the-blue-light-speak-cheesy-brooklyn-9   \n",
       "81   VQ5YGa4L4AT3ugF61hM9qQ                    zongzi-lady-new-york   \n",
       "78   YtU1rb_oDHTbYzl-NFglPQ                burmese-bites-elmhurst-2   \n",
       "99   2IpbquaH7zUNnAVw_rLPLQ         aromas-boutique-bakery-new-york   \n",
       "94   Xv4kqYmtB7svT0r1-ABlZg         ample-hills-creamery-brooklyn-5   \n",
       "\n",
       "                                            categories  \\\n",
       "95                       Food Trucks, Mexican, Burgers   \n",
       "113                           Coffee & Tea, Sandwiches   \n",
       "102    Waffles, Food Trucks, Ice Cream & Frozen Yogurt   \n",
       "19                          Halal, Food Trucks, Indian   \n",
       "133                      Food Stands, Waffles, Belgian   \n",
       "..                                                 ...   \n",
       "54   Sandwiches, Breakfast & Brunch, Pop-Up Restaur...   \n",
       "81                             Street Vendors, Chinese   \n",
       "78                                             Burmese   \n",
       "99                              Bakeries, Custom Cakes   \n",
       "94   Ice Cream & Frozen Yogurt, Desserts, Custom Cakes   \n",
       "\n",
       "                                               address  google_review  \n",
       "95               37th St & 5th Ave, Brooklyn, NY 11232            4.3  \n",
       "113           9 Edward M Morgan Pl, New York, NY 10032            4.3  \n",
       "102                                 New York, NY 10011            4.4  \n",
       "19             44TH St And 6th Ave, New York, NY 10018            4.4  \n",
       "133  Broadway & 66th St, Goesting Cart, New York, N...            4.4  \n",
       "..                                                 ...            ...  \n",
       "54                    158 Green St, Brooklyn, NY 11222            5.0  \n",
       "81            Chrystie St Grand St, New York, NY 10002            5.0  \n",
       "78               90-15 Queens Blvd, Elmhurst, NY 11373            5.0  \n",
       "99                                  New York, NY 10029            5.0  \n",
       "94                   305 Nevins St, Brooklyn, NY 11215            NaN  \n",
       "\n",
       "[150 rows x 8 columns]"
      ]
     },
     "execution_count": 18,
     "metadata": {},
     "output_type": "execute_result"
    }
   ],
   "source": [
    "restaurant_data.sort_values(\"google_review\")"
   ]
  },
  {
   "cell_type": "code",
   "execution_count": null,
   "id": "bf81c0bb",
   "metadata": {},
   "outputs": [],
   "source": []
  },
  {
   "cell_type": "code",
   "execution_count": null,
   "id": "b938817c",
   "metadata": {},
   "outputs": [],
   "source": []
  },
  {
   "cell_type": "code",
   "execution_count": null,
   "id": "configured-istanbul",
   "metadata": {},
   "outputs": [],
   "source": [
    "t = YelpRestaurant(data[\"businesses\"][0])\n",
    "vars(t)"
   ]
  },
  {
   "cell_type": "code",
   "execution_count": null,
   "id": "heavy-gilbert",
   "metadata": {},
   "outputs": [],
   "source": []
  },
  {
   "cell_type": "code",
   "execution_count": null,
   "id": "stuck-brunswick",
   "metadata": {},
   "outputs": [],
   "source": [
    "class YelpRestaurant:\n",
    "    def __init__(self, yelp_data: dict):\n",
    "        for key, value in yelp_data.items():\n",
    "            self.__dict__[key] = value\n",
    "        \n",
    "        self.google_rating = get_google_rating(f\"{self.alias}\")"
   ]
  },
  {
   "cell_type": "code",
   "execution_count": null,
   "id": "harmful-helicopter",
   "metadata": {},
   "outputs": [],
   "source": [
    "data[\"businesses\"][3]"
   ]
  },
  {
   "cell_type": "code",
   "execution_count": null,
   "id": "dietary-playing",
   "metadata": {},
   "outputs": [],
   "source": []
  }
 ],
 "metadata": {
  "kernelspec": {
   "display_name": "Python 3 (ipykernel)",
   "language": "python",
   "name": "python3"
  },
  "language_info": {
   "codemirror_mode": {
    "name": "ipython",
    "version": 3
   },
   "file_extension": ".py",
   "mimetype": "text/x-python",
   "name": "python",
   "nbconvert_exporter": "python",
   "pygments_lexer": "ipython3",
   "version": "3.8.13"
  }
 },
 "nbformat": 4,
 "nbformat_minor": 5
}
