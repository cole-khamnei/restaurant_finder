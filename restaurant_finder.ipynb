{
 "cells": [
  {
   "cell_type": "code",
   "execution_count": 1,
   "id": "hungarian-baghdad",
   "metadata": {},
   "outputs": [],
   "source": [
    "import json\n",
    "import sys\n",
    "\n",
    "import matplotlib.pyplot as plt\n",
    "import numpy as np\n",
    "import pandas as pd\n",
    "import seaborn as sns\n",
    "\n",
    "from tqdm.notebook import tqdm\n",
    "\n",
    "import scrape\n",
    "import yelp\n",
    "import constants\n",
    "\n",
    "sys.path.append(\"../helpers/\")\n",
    "import helpers\n",
    "\n",
    "%load_ext autoreload\n",
    "%autoreload 2"
   ]
  },
  {
   "cell_type": "code",
   "execution_count": 2,
   "id": "prospective-summer",
   "metadata": {},
   "outputs": [],
   "source": [
    "import nord_vpn\n",
    "\n",
    "from sys import platform\n",
    "\n",
    "if platform != \"darwin\":\n",
    "    pass\n",
    "    vpn = nord_vpn.NordVPN()\n",
    "    vpn.connect()\n",
    "    vpn.disconnect()\n",
    "    vpn.check_status()"
   ]
  },
  {
   "cell_type": "code",
   "execution_count": 3,
   "id": "indoor-fairy",
   "metadata": {},
   "outputs": [
    {
     "name": "stdout",
     "output_type": "stream",
     "text": [
      "https://guide.michelin.com/us/en/new-york-state/new-york/restaurants/1-star-michelin\n"
     ]
    }
   ],
   "source": [
    "url = scrape.get_michelin_guide_url(\"new york\", \"new york\", stars=\"1\")\n",
    "print(url)"
   ]
  },
  {
   "cell_type": "code",
   "execution_count": 4,
   "id": "explicit-inspiration",
   "metadata": {},
   "outputs": [],
   "source": [
    "restaurant_html_list = scrape.get_michelin_guide_restaurant_html_list(\"new york\", \"new york\", stars=\"3\")\n",
    "restaurant_html = restaurant_html_list[0]"
   ]
  },
  {
   "cell_type": "code",
   "execution_count": 5,
   "id": "exterior-assessment",
   "metadata": {},
   "outputs": [
    {
     "name": "stdout",
     "output_type": "stream",
     "text": [
      "['355', 'USD', '•', 'Contemporary', 'French']\n"
     ]
    },
    {
     "data": {
      "text/plain": [
       "Per Se | 3 Stars | 4.6 Stars (Google Reviews)| 355"
      ]
     },
     "execution_count": 5,
     "metadata": {},
     "output_type": "execute_result"
    }
   ],
   "source": [
    "scrape.MichelinRestaurant(restaurant_html_list[1])"
   ]
  },
  {
   "cell_type": "code",
   "execution_count": 6,
   "id": "pregnant-concentrate",
   "metadata": {},
   "outputs": [],
   "source": [
    "# restaurant_html_list = scrape.get_michelin_guide_restaurant_html_list(\"new york\", \"new york\", stars=\"1+\")\n",
    "# restaurant_list = scrape.get_convert_restaurant_html_list_to_restaurants(restaurant_html_list)\n",
    "# restaurant_list = sorted(restaurant_list)"
   ]
  },
  {
   "cell_type": "markdown",
   "id": "enclosed-electricity",
   "metadata": {},
   "source": [
    "# Michelin Star Restaurants"
   ]
  },
  {
   "cell_type": "code",
   "execution_count": 7,
   "id": "adaptive-shareware",
   "metadata": {},
   "outputs": [],
   "source": [
    "# restaurant_data = pd.DataFrame([(restaurant.name, restaurant.cost, restaurant.distinction,\n",
    "#                                  restaurant.google_rating, restaurant) for restaurant in restaurant_list],\n",
    "#                                columns=[\"name\", \"cost\", \"michelin_stars\", \"google_rating\", \"restaurant\"])"
   ]
  },
  {
   "cell_type": "code",
   "execution_count": 8,
   "id": "alien-pickup",
   "metadata": {},
   "outputs": [],
   "source": [
    "# restaurant_data = restaurant_data.sort_values(by=[\"cost\", \"google_rating\"], ascending=[True, False]).reset_index()\n",
    "# restaurant_data.head(50)"
   ]
  },
  {
   "cell_type": "markdown",
   "id": "advised-delta",
   "metadata": {},
   "source": [
    "# Bib Gourmand"
   ]
  },
  {
   "cell_type": "code",
   "execution_count": 9,
   "id": "minute-brunswick",
   "metadata": {
    "scrolled": false
   },
   "outputs": [],
   "source": [
    "# bib_gourmand_restaurant_html_list = scrape.get_michelin_guide_restaurant_html_list(\"new york\", \"new york\", stars=\"0\")\n",
    "# bib_gourmand_restaurant_list = scrape.get_convert_restaurant_html_list_to_restaurants(bib_gourmand_restaurant_html_list)\n",
    "# bib_gourmand_restaurant_list = sorted(bib_gourmand_restaurant_list)"
   ]
  },
  {
   "cell_type": "code",
   "execution_count": 10,
   "id": "threaded-cuisine",
   "metadata": {
    "scrolled": false
   },
   "outputs": [],
   "source": [
    "# bib_gourmand_restaurant_data = pd.DataFrame([(restaurant.name, restaurant.cost, restaurant.distinction,\n",
    "#                                  restaurant.google_rating, restaurant) for restaurant in bib_gourmand_restaurant_list],\n",
    "#                                columns=[\"name\", \"cost\", \"michelin_stars\", \"google_rating\", \"restaurant\"])\n",
    "\n",
    "# bib_gourmand_restaurant_data = bib_gourmand_restaura`nt_data.sort_values(by=[\"cost\", \"google_rating\"],\n",
    "#                                                                         ascending=[True, False]).reset_index()\n",
    "# bib_gourmand_restaurant_data.query(\"google_rating == 4.3\").head(50)"
   ]
  },
  {
   "cell_type": "markdown",
   "id": "recreational-tolerance",
   "metadata": {},
   "source": [
    "# Yelp Data Pulling"
   ]
  },
  {
   "cell_type": "code",
   "execution_count": 11,
   "id": "4527d44c",
   "metadata": {},
   "outputs": [],
   "source": [
    "overwrite = False"
   ]
  },
  {
   "cell_type": "code",
   "execution_count": 12,
   "id": "a862b527",
   "metadata": {},
   "outputs": [],
   "source": [
    "data = helpers.cached_function(f\"data/yelp_data.pkl\", yelp.get_all_restaurants,\n",
    "                               \"restaurant\", price=\"1,2,3,4\", sort_by=\"rating\", location=\"NYC\", top=1000,\n",
    "                               per_price=True, overwrite=False)"
   ]
  },
  {
   "cell_type": "code",
   "execution_count": 13,
   "id": "7446d9b8",
   "metadata": {},
   "outputs": [],
   "source": [
    "restaurant_data = yelp.yelp_data_to_restaurant_df(data)\n",
    "restaurant_data = restaurant_data.query(\"rating > 3.5 and review_count > 40\")\n",
    "restaurant_data.sort_values([\"rating\", \"review_count\"], ascending=False, inplace=True)\n",
    "restaurant_data.reset_index(inplace=True)\n",
    "\n",
    "restaurant_data = restaurant_data"
   ]
  },
  {
   "cell_type": "code",
   "execution_count": 14,
   "id": "b3217180",
   "metadata": {},
   "outputs": [
    {
     "data": {
      "text/html": [
       "<div>\n",
       "<style scoped>\n",
       "    .dataframe tbody tr th:only-of-type {\n",
       "        vertical-align: middle;\n",
       "    }\n",
       "\n",
       "    .dataframe tbody tr th {\n",
       "        vertical-align: top;\n",
       "    }\n",
       "\n",
       "    .dataframe thead th {\n",
       "        text-align: right;\n",
       "    }\n",
       "</style>\n",
       "<table border=\"1\" class=\"dataframe\">\n",
       "  <thead>\n",
       "    <tr style=\"text-align: right;\">\n",
       "      <th></th>\n",
       "      <th>index</th>\n",
       "      <th>name</th>\n",
       "      <th>review_count</th>\n",
       "      <th>rating</th>\n",
       "      <th>id</th>\n",
       "      <th>alias</th>\n",
       "      <th>price</th>\n",
       "      <th>categories</th>\n",
       "      <th>address</th>\n",
       "      <th>city</th>\n",
       "    </tr>\n",
       "  </thead>\n",
       "  <tbody>\n",
       "    <tr>\n",
       "      <th>0</th>\n",
       "      <td>1900</td>\n",
       "      <td>Haidilao Hot Pot Flushing</td>\n",
       "      <td>1784</td>\n",
       "      <td>5.0</td>\n",
       "      <td>jWuUibgnTGsJibOrr6UUSw</td>\n",
       "      <td>haidilao-hot-pot-flushing-flushing</td>\n",
       "      <td>$$$</td>\n",
       "      <td>Hot Pot, Chinese</td>\n",
       "      <td>138-23 39th Ave, Flushing, NY 11354</td>\n",
       "      <td>Flushing</td>\n",
       "    </tr>\n",
       "    <tr>\n",
       "      <th>1</th>\n",
       "      <td>956</td>\n",
       "      <td>The Alcove</td>\n",
       "      <td>1027</td>\n",
       "      <td>5.0</td>\n",
       "      <td>MNNpsRXe7Wt5m3Jla9Wk0w</td>\n",
       "      <td>the-alcove-sunnyside</td>\n",
       "      <td>$$</td>\n",
       "      <td>Gastropubs, Tapas Bars, Breakfast &amp; Brunch</td>\n",
       "      <td>41-11 49th St, Sunnyside, NY 11104</td>\n",
       "      <td>Sunnyside</td>\n",
       "    </tr>\n",
       "    <tr>\n",
       "      <th>2</th>\n",
       "      <td>1901</td>\n",
       "      <td>Otis</td>\n",
       "      <td>446</td>\n",
       "      <td>5.0</td>\n",
       "      <td>RfxOtJ4SQmEeVX_XjFLWUQ</td>\n",
       "      <td>otis-brooklyn-2</td>\n",
       "      <td>$$$</td>\n",
       "      <td>American (New), Cocktail Bars</td>\n",
       "      <td>18 Harrison Pl, Brooklyn, NY 11206</td>\n",
       "      <td>Brooklyn</td>\n",
       "    </tr>\n",
       "    <tr>\n",
       "      <th>3</th>\n",
       "      <td>958</td>\n",
       "      <td>Scott's Pizza Tours</td>\n",
       "      <td>355</td>\n",
       "      <td>5.0</td>\n",
       "      <td>VP3-iMnKK_TaHDuy6mxTzA</td>\n",
       "      <td>scotts-pizza-tours-new-york</td>\n",
       "      <td>$$</td>\n",
       "      <td>Pizza, Food Tours, Walking Tours</td>\n",
       "      <td>New York, NY 10001</td>\n",
       "      <td>New York</td>\n",
       "    </tr>\n",
       "    <tr>\n",
       "      <th>4</th>\n",
       "      <td>14</td>\n",
       "      <td>Joey Bats Café</td>\n",
       "      <td>349</td>\n",
       "      <td>5.0</td>\n",
       "      <td>uYMimeHJ5XBGkyTrg8GXhw</td>\n",
       "      <td>joey-bats-café-new-york</td>\n",
       "      <td>$</td>\n",
       "      <td>Desserts, Portuguese, Cafes</td>\n",
       "      <td>129 Allen St, New York, NY 10002</td>\n",
       "      <td>New York</td>\n",
       "    </tr>\n",
       "  </tbody>\n",
       "</table>\n",
       "</div>"
      ],
      "text/plain": [
       "   index                       name  review_count  rating  \\\n",
       "0   1900  Haidilao Hot Pot Flushing          1784     5.0   \n",
       "1    956                 The Alcove          1027     5.0   \n",
       "2   1901                       Otis           446     5.0   \n",
       "3    958        Scott's Pizza Tours           355     5.0   \n",
       "4     14             Joey Bats Café           349     5.0   \n",
       "\n",
       "                       id                               alias price  \\\n",
       "0  jWuUibgnTGsJibOrr6UUSw  haidilao-hot-pot-flushing-flushing   $$$   \n",
       "1  MNNpsRXe7Wt5m3Jla9Wk0w                the-alcove-sunnyside    $$   \n",
       "2  RfxOtJ4SQmEeVX_XjFLWUQ                     otis-brooklyn-2   $$$   \n",
       "3  VP3-iMnKK_TaHDuy6mxTzA         scotts-pizza-tours-new-york    $$   \n",
       "4  uYMimeHJ5XBGkyTrg8GXhw             joey-bats-café-new-york     $   \n",
       "\n",
       "                                   categories  \\\n",
       "0                            Hot Pot, Chinese   \n",
       "1  Gastropubs, Tapas Bars, Breakfast & Brunch   \n",
       "2               American (New), Cocktail Bars   \n",
       "3            Pizza, Food Tours, Walking Tours   \n",
       "4                 Desserts, Portuguese, Cafes   \n",
       "\n",
       "                               address       city  \n",
       "0  138-23 39th Ave, Flushing, NY 11354   Flushing  \n",
       "1   41-11 49th St, Sunnyside, NY 11104  Sunnyside  \n",
       "2   18 Harrison Pl, Brooklyn, NY 11206   Brooklyn  \n",
       "3                   New York, NY 10001   New York  \n",
       "4     129 Allen St, New York, NY 10002   New York  "
      ]
     },
     "execution_count": 14,
     "metadata": {},
     "output_type": "execute_result"
    }
   ],
   "source": [
    "restaurant_data.head()"
   ]
  },
  {
   "cell_type": "code",
   "execution_count": 15,
   "id": "4f9f4a91",
   "metadata": {},
   "outputs": [],
   "source": [
    "restaurant_data = helpers.cached_function(\"data/yelp_data_with_google_reviews.pkl\",\n",
    "                                          yelp.add_google_place_info, restaurant_data, overwrite=False)\n",
    "restaurant_data.query(\"google_rating > 4 and google_ratings_total > 40\", inplace=True)"
   ]
  },
  {
   "cell_type": "code",
   "execution_count": 20,
   "id": "18f12870",
   "metadata": {},
   "outputs": [
    {
     "data": {
      "image/png": "[encoded data removed]",
      "text/plain": [
       "<Figure size 1008x360 with 1 Axes>"
      ]
     },
     "metadata": {
      "needs_background": "light"
     },
     "output_type": "display_data"
    },
    {
     "data": {
      "image/png": "[encoded data removed]",
      "text/plain": [
       "<Figure size 1008x360 with 1 Axes>"
      ]
     },
     "metadata": {
      "needs_background": "light"
     },
     "output_type": "display_data"
    }
   ],
   "source": [
    "fig, ax = plt.subplots(figsize=(14, 5))\n",
    "sns.boxplot(data=restaurant_data, x=\"rating\", y=\"google_rating\", ax=ax)\n",
    "helpers.add_plt_labels(ax, x=\"Yelp Rating\", y=\"Google Rating\")\n",
    "\n",
    "fig, ax = plt.subplots(figsize=(14, 5))\n",
    "ax.scatter(data=restaurant_data, x=\"review_count\", y=\"google_ratings_total\")\n",
    "ax.plot([40, 10000], [40, 10000], linestyle=\"--\", color=\"k\", alpha=.5)\n",
    "helpers.add_plt_labels(ax, x=\"Number of Yelp Ratings\", y=\"Number of Google Ratings\")\n",
    "ax.set_xscale(\"log\")\n",
    "ax.set_yscale(\"log\")"
   ]
  },
  {
   "cell_type": "code",
   "execution_count": 17,
   "id": "44543d87",
   "metadata": {},
   "outputs": [
    {
     "data": {
      "text/html": [
       "<div>\n",
       "<style scoped>\n",
       "    .dataframe tbody tr th:only-of-type {\n",
       "        vertical-align: middle;\n",
       "    }\n",
       "\n",
       "    .dataframe tbody tr th {\n",
       "        vertical-align: top;\n",
       "    }\n",
       "\n",
       "    .dataframe thead th {\n",
       "        text-align: right;\n",
       "    }\n",
       "</style>\n",
       "<table border=\"1\" class=\"dataframe\">\n",
       "  <thead>\n",
       "    <tr style=\"text-align: right;\">\n",
       "      <th></th>\n",
       "      <th>index</th>\n",
       "      <th>name</th>\n",
       "      <th>review_count</th>\n",
       "      <th>rating</th>\n",
       "      <th>id</th>\n",
       "      <th>alias</th>\n",
       "      <th>price</th>\n",
       "      <th>categories</th>\n",
       "      <th>address</th>\n",
       "      <th>city</th>\n",
       "      <th>google_rating</th>\n",
       "      <th>google_ratings_total</th>\n",
       "      <th>google_price</th>\n",
       "      <th>status</th>\n",
       "    </tr>\n",
       "  </thead>\n",
       "  <tbody>\n",
       "    <tr>\n",
       "      <th>0</th>\n",
       "      <td>1900</td>\n",
       "      <td>Haidilao Hot Pot Flushing</td>\n",
       "      <td>1784</td>\n",
       "      <td>5.0</td>\n",
       "      <td>jWuUibgnTGsJibOrr6UUSw</td>\n",
       "      <td>haidilao-hot-pot-flushing-flushing</td>\n",
       "      <td>$$$</td>\n",
       "      <td>Hot Pot, Chinese</td>\n",
       "      <td>138-23 39th Ave, Flushing, NY 11354</td>\n",
       "      <td>Flushing</td>\n",
       "      <td>4.8</td>\n",
       "      <td>2445.0</td>\n",
       "      <td>2.0</td>\n",
       "      <td>OPERATIONAL</td>\n",
       "    </tr>\n",
       "    <tr>\n",
       "      <th>1</th>\n",
       "      <td>956</td>\n",
       "      <td>The Alcove</td>\n",
       "      <td>1027</td>\n",
       "      <td>5.0</td>\n",
       "      <td>MNNpsRXe7Wt5m3Jla9Wk0w</td>\n",
       "      <td>the-alcove-sunnyside</td>\n",
       "      <td>$$</td>\n",
       "      <td>Gastropubs, Tapas Bars, Breakfast &amp; Brunch</td>\n",
       "      <td>41-11 49th St, Sunnyside, NY 11104</td>\n",
       "      <td>Sunnyside</td>\n",
       "      <td>4.8</td>\n",
       "      <td>978.0</td>\n",
       "      <td>2.0</td>\n",
       "      <td>OPERATIONAL</td>\n",
       "    </tr>\n",
       "    <tr>\n",
       "      <th>2</th>\n",
       "      <td>1901</td>\n",
       "      <td>Otis</td>\n",
       "      <td>446</td>\n",
       "      <td>5.0</td>\n",
       "      <td>RfxOtJ4SQmEeVX_XjFLWUQ</td>\n",
       "      <td>otis-brooklyn-2</td>\n",
       "      <td>$$$</td>\n",
       "      <td>American (New), Cocktail Bars</td>\n",
       "      <td>18 Harrison Pl, Brooklyn, NY 11206</td>\n",
       "      <td>Brooklyn</td>\n",
       "      <td>4.8</td>\n",
       "      <td>669.0</td>\n",
       "      <td>2.0</td>\n",
       "      <td>OPERATIONAL</td>\n",
       "    </tr>\n",
       "    <tr>\n",
       "      <th>4</th>\n",
       "      <td>14</td>\n",
       "      <td>Joey Bats Café</td>\n",
       "      <td>349</td>\n",
       "      <td>5.0</td>\n",
       "      <td>uYMimeHJ5XBGkyTrg8GXhw</td>\n",
       "      <td>joey-bats-café-new-york</td>\n",
       "      <td>$</td>\n",
       "      <td>Desserts, Portuguese, Cafes</td>\n",
       "      <td>129 Allen St, New York, NY 10002</td>\n",
       "      <td>New York</td>\n",
       "      <td>4.8</td>\n",
       "      <td>413.0</td>\n",
       "      <td>1.0</td>\n",
       "      <td>OPERATIONAL</td>\n",
       "    </tr>\n",
       "    <tr>\n",
       "      <th>5</th>\n",
       "      <td>957</td>\n",
       "      <td>Korai Kitchen</td>\n",
       "      <td>308</td>\n",
       "      <td>5.0</td>\n",
       "      <td>3rZwXDjkyDLAHNSdPUI5WA</td>\n",
       "      <td>korai-kitchen-jersey-city</td>\n",
       "      <td>$$</td>\n",
       "      <td>Bangladeshi</td>\n",
       "      <td>576 Summit Ave, Jersey City, NJ 07306</td>\n",
       "      <td>Jersey City</td>\n",
       "      <td>4.8</td>\n",
       "      <td>525.0</td>\n",
       "      <td>2.0</td>\n",
       "      <td>OPERATIONAL</td>\n",
       "    </tr>\n",
       "    <tr>\n",
       "      <th>...</th>\n",
       "      <td>...</td>\n",
       "      <td>...</td>\n",
       "      <td>...</td>\n",
       "      <td>...</td>\n",
       "      <td>...</td>\n",
       "      <td>...</td>\n",
       "      <td>...</td>\n",
       "      <td>...</td>\n",
       "      <td>...</td>\n",
       "      <td>...</td>\n",
       "      <td>...</td>\n",
       "      <td>...</td>\n",
       "      <td>...</td>\n",
       "      <td>...</td>\n",
       "    </tr>\n",
       "    <tr>\n",
       "      <th>2637</th>\n",
       "      <td>2695</td>\n",
       "      <td>University Club</td>\n",
       "      <td>45</td>\n",
       "      <td>4.0</td>\n",
       "      <td>JbXpcBhrSItNZ2DBPS9u9w</td>\n",
       "      <td>university-club-new-york</td>\n",
       "      <td>$$$</td>\n",
       "      <td>Social Clubs, American (Traditional)</td>\n",
       "      <td>1 W 54th St, New York, NY 10019</td>\n",
       "      <td>New York</td>\n",
       "      <td>4.3</td>\n",
       "      <td>67.0</td>\n",
       "      <td>NaN</td>\n",
       "      <td>OPERATIONAL</td>\n",
       "    </tr>\n",
       "    <tr>\n",
       "      <th>2638</th>\n",
       "      <td>2719</td>\n",
       "      <td>Salvi Restaurant</td>\n",
       "      <td>44</td>\n",
       "      <td>4.0</td>\n",
       "      <td>q1F09j4JFRZQJ2e11m7lGg</td>\n",
       "      <td>salvi-restaurant-brooklyn</td>\n",
       "      <td>$$$</td>\n",
       "      <td>Italian</td>\n",
       "      <td>4220 Quentin Rd, Brooklyn, NY 11234</td>\n",
       "      <td>Brooklyn</td>\n",
       "      <td>4.5</td>\n",
       "      <td>151.0</td>\n",
       "      <td>2.0</td>\n",
       "      <td>OPERATIONAL</td>\n",
       "    </tr>\n",
       "    <tr>\n",
       "      <th>2639</th>\n",
       "      <td>2761</td>\n",
       "      <td>The Kosher Marketplace</td>\n",
       "      <td>44</td>\n",
       "      <td>4.0</td>\n",
       "      <td>E5aMm_pUrb8QfaFxM6Dv9g</td>\n",
       "      <td>the-kosher-marketplace-new-york</td>\n",
       "      <td>$$$</td>\n",
       "      <td>Specialty Food, Grocery, Kosher</td>\n",
       "      <td>2442 Broadway, New York, NY 10024</td>\n",
       "      <td>New York</td>\n",
       "      <td>4.5</td>\n",
       "      <td>96.0</td>\n",
       "      <td>NaN</td>\n",
       "      <td>OPERATIONAL</td>\n",
       "    </tr>\n",
       "    <tr>\n",
       "      <th>2640</th>\n",
       "      <td>3031</td>\n",
       "      <td>Odo</td>\n",
       "      <td>44</td>\n",
       "      <td>4.0</td>\n",
       "      <td>56PeolgNURAG4x6q7nanmw</td>\n",
       "      <td>odo-new-york</td>\n",
       "      <td>$$$$</td>\n",
       "      <td>Japanese</td>\n",
       "      <td>17 W 20th St, New York, NY 10011</td>\n",
       "      <td>New York</td>\n",
       "      <td>4.6</td>\n",
       "      <td>95.0</td>\n",
       "      <td>NaN</td>\n",
       "      <td>OPERATIONAL</td>\n",
       "    </tr>\n",
       "    <tr>\n",
       "      <th>2641</th>\n",
       "      <td>2537</td>\n",
       "      <td>Lysée</td>\n",
       "      <td>43</td>\n",
       "      <td>4.0</td>\n",
       "      <td>inrdLiBjiJ_ngHXirw4pPg</td>\n",
       "      <td>lysée-new-york-4</td>\n",
       "      <td>$$$</td>\n",
       "      <td>Desserts, Bakeries, Coffee &amp; Tea</td>\n",
       "      <td>44 E 21st St, New York, NY 10010</td>\n",
       "      <td>New York</td>\n",
       "      <td>4.5</td>\n",
       "      <td>62.0</td>\n",
       "      <td>NaN</td>\n",
       "      <td>OPERATIONAL</td>\n",
       "    </tr>\n",
       "  </tbody>\n",
       "</table>\n",
       "<p>2410 rows × 14 columns</p>\n",
       "</div>"
      ],
      "text/plain": [
       "      index                       name  review_count  rating  \\\n",
       "0      1900  Haidilao Hot Pot Flushing          1784     5.0   \n",
       "1       956                 The Alcove          1027     5.0   \n",
       "2      1901                       Otis           446     5.0   \n",
       "4        14             Joey Bats Café           349     5.0   \n",
       "5       957              Korai Kitchen           308     5.0   \n",
       "...     ...                        ...           ...     ...   \n",
       "2637   2695            University Club            45     4.0   \n",
       "2638   2719           Salvi Restaurant            44     4.0   \n",
       "2639   2761     The Kosher Marketplace            44     4.0   \n",
       "2640   3031                        Odo            44     4.0   \n",
       "2641   2537                      Lysée            43     4.0   \n",
       "\n",
       "                          id                               alias price  \\\n",
       "0     jWuUibgnTGsJibOrr6UUSw  haidilao-hot-pot-flushing-flushing   $$$   \n",
       "1     MNNpsRXe7Wt5m3Jla9Wk0w                the-alcove-sunnyside    $$   \n",
       "2     RfxOtJ4SQmEeVX_XjFLWUQ                     otis-brooklyn-2   $$$   \n",
       "4     uYMimeHJ5XBGkyTrg8GXhw             joey-bats-café-new-york     $   \n",
       "5     3rZwXDjkyDLAHNSdPUI5WA           korai-kitchen-jersey-city    $$   \n",
       "...                      ...                                 ...   ...   \n",
       "2637  JbXpcBhrSItNZ2DBPS9u9w            university-club-new-york   $$$   \n",
       "2638  q1F09j4JFRZQJ2e11m7lGg           salvi-restaurant-brooklyn   $$$   \n",
       "2639  E5aMm_pUrb8QfaFxM6Dv9g     the-kosher-marketplace-new-york   $$$   \n",
       "2640  56PeolgNURAG4x6q7nanmw                        odo-new-york  $$$$   \n",
       "2641  inrdLiBjiJ_ngHXirw4pPg                    lysée-new-york-4   $$$   \n",
       "\n",
       "                                      categories  \\\n",
       "0                               Hot Pot, Chinese   \n",
       "1     Gastropubs, Tapas Bars, Breakfast & Brunch   \n",
       "2                  American (New), Cocktail Bars   \n",
       "4                    Desserts, Portuguese, Cafes   \n",
       "5                                    Bangladeshi   \n",
       "...                                          ...   \n",
       "2637        Social Clubs, American (Traditional)   \n",
       "2638                                     Italian   \n",
       "2639             Specialty Food, Grocery, Kosher   \n",
       "2640                                    Japanese   \n",
       "2641            Desserts, Bakeries, Coffee & Tea   \n",
       "\n",
       "                                    address         city  google_rating  \\\n",
       "0       138-23 39th Ave, Flushing, NY 11354     Flushing            4.8   \n",
       "1        41-11 49th St, Sunnyside, NY 11104    Sunnyside            4.8   \n",
       "2        18 Harrison Pl, Brooklyn, NY 11206     Brooklyn            4.8   \n",
       "4          129 Allen St, New York, NY 10002     New York            4.8   \n",
       "5     576 Summit Ave, Jersey City, NJ 07306  Jersey City            4.8   \n",
       "...                                     ...          ...            ...   \n",
       "2637        1 W 54th St, New York, NY 10019     New York            4.3   \n",
       "2638    4220 Quentin Rd, Brooklyn, NY 11234     Brooklyn            4.5   \n",
       "2639      2442 Broadway, New York, NY 10024     New York            4.5   \n",
       "2640       17 W 20th St, New York, NY 10011     New York            4.6   \n",
       "2641       44 E 21st St, New York, NY 10010     New York            4.5   \n",
       "\n",
       "      google_ratings_total  google_price       status  \n",
       "0                   2445.0           2.0  OPERATIONAL  \n",
       "1                    978.0           2.0  OPERATIONAL  \n",
       "2                    669.0           2.0  OPERATIONAL  \n",
       "4                    413.0           1.0  OPERATIONAL  \n",
       "5                    525.0           2.0  OPERATIONAL  \n",
       "...                    ...           ...          ...  \n",
       "2637                  67.0           NaN  OPERATIONAL  \n",
       "2638                 151.0           2.0  OPERATIONAL  \n",
       "2639                  96.0           NaN  OPERATIONAL  \n",
       "2640                  95.0           NaN  OPERATIONAL  \n",
       "2641                  62.0           NaN  OPERATIONAL  \n",
       "\n",
       "[2410 rows x 14 columns]"
      ]
     },
     "execution_count": 17,
     "metadata": {},
     "output_type": "execute_result"
    }
   ],
   "source": [
    "restaurant_data"
   ]
  },
  {
   "cell_type": "code",
   "execution_count": 76,
   "id": "0b485aa9",
   "metadata": {},
   "outputs": [
    {
     "data": {
      "application/vnd.jupyter.widget-view+json": {
       "model_id": "9f91970a10ba48689f7580938540a00e",
       "version_major": 2,
       "version_minor": 0
      },
      "text/plain": [
       "Building Category Association Matrix:   0%|          | 0/35721 [00:00<?, ? Category/s]"
      ]
     },
     "metadata": {},
     "output_type": "display_data"
    }
   ],
   "source": [
    "categories = sorted(set([i.strip() for item in data[\"categories\"] for i in item.split(\",\")]))\n",
    "\n",
    "category_matrix = np.zeros((len(categories), len(categories)))\n",
    "pbar = tqdm(total=np.prod(category_matrix.shape), desc=\"Building Category Association Matrix\", unit=\" Category\")\n",
    "for i, category_i in enumerate(categories):\n",
    "#     is_category_i = data[\"categories\"].str.contains(category_i)\n",
    "    is_category_i = data[\"categories\"].apply(lambda s: category_i in s)\n",
    "    for j, category_j in enumerate(categories):\n",
    "#         category_matrix[i, j] = np.count_nonzero(is_category_i & data[\"categories\"].str.contains(category_j))\n",
    "        category_matrix[i, j] = np.count_nonzero(is_category_i & data[\"categories\"].apply(lambda s: category_j in s))\n",
    "        pbar.update(1)"
   ]
  },
  {
   "cell_type": "code",
   "execution_count": 198,
   "id": "d119a1cf",
   "metadata": {},
   "outputs": [],
   "source": [
    "category_data = pd.DataFrame(category_matrix / np.diag(category_matrix), columns=categories, index=categories)\n",
    "# category_data = pd.DataFrame(category_matrix, columns=categories, index=categories)"
   ]
  },
  {
   "cell_type": "code",
   "execution_count": 199,
   "id": "541be684",
   "metadata": {},
   "outputs": [],
   "source": [
    "def category_vec(string):\n",
    "    return np.array([category in string for category in categories]) * 1\n",
    "\n",
    "X = np.vstack(data[\"categories\"].apply(category_vec).values)"
   ]
  },
  {
   "cell_type": "code",
   "execution_count": 200,
   "id": "9a6b2966",
   "metadata": {},
   "outputs": [],
   "source": [
    "X = X / X.sum(axis=1).reshape(-1, 1)"
   ]
  },
  {
   "cell_type": "code",
   "execution_count": 201,
   "id": "b2fc4de6",
   "metadata": {},
   "outputs": [
    {
     "name": "stdout",
     "output_type": "stream",
     "text": [
      "[0.09295003 0.07075665]\n"
     ]
    }
   ],
   "source": [
    "import numpy as np\n",
    "from sklearn.decomposition import PCA\n",
    "pca = PCA(n_components=2)\n",
    "pca.fit(X)\n",
    "\n",
    "print(pca.explained_variance_ratio_)\n",
    "\n",
    "from sklearn.cluster import DBSCAN"
   ]
  },
  {
   "cell_type": "code",
   "execution_count": 202,
   "id": "3686c6e6",
   "metadata": {},
   "outputs": [
    {
     "data": {
      "text/plain": [
       "array([-1,  0,  1,  2,  3,  4,  5,  6,  7,  8,  9, 10])"
      ]
     },
     "execution_count": 202,
     "metadata": {},
     "output_type": "execute_result"
    }
   ],
   "source": [
    "clustering = DBSCAN(eps=.4, min_samples=10).fit(X)\n",
    "np.unique(clustering.labels_)"
   ]
  },
  {
   "cell_type": "code",
   "execution_count": 203,
   "id": "fdc1a195",
   "metadata": {},
   "outputs": [
    {
     "data": {
      "image/png": "[encoded data removed]",
      "text/plain": [
       "<Figure size 1008x576 with 1 Axes>"
      ]
     },
     "metadata": {
      "needs_background": "light"
     },
     "output_type": "display_data"
    }
   ],
   "source": [
    "x = pca.transform(X)\n",
    "fig, ax = plt.subplots(figsize=(14, 8))\n",
    "for label in np.unique(clustering.labels_):\n",
    "    index = clustering.labels_ == label\n",
    "    ax.scatter(x[:, 0][index], x[:, 1][index], label=label)\n",
    "ax.legend(title=\"Cluster Group\")\n",
    "helpers.add_plt_labels(ax, x=\"PC 1\", y=\"PC 2\")"
   ]
  },
  {
   "cell_type": "code",
   "execution_count": 204,
   "id": "63f2f348",
   "metadata": {},
   "outputs": [
    {
     "data": {
      "text/plain": [
       "<seaborn.matrix.ClusterGrid at 0x17c750a00>"
      ]
     },
     "execution_count": 204,
     "metadata": {},
     "output_type": "execute_result"
    },
    {
     "data": {
      "image/png": "[encoded data removed]",
      "text/plain": [
       "<Figure size 1008x576 with 4 Axes>"
      ]
     },
     "metadata": {
      "needs_background": "light"
     },
     "output_type": "display_data"
    }
   ],
   "source": [
    "sns.clustermap(category_data, figsize=(14, 8))"
   ]
  },
  {
   "cell_type": "code",
   "execution_count": 24,
   "id": "ea796540",
   "metadata": {},
   "outputs": [
    {
     "data": {
      "text/html": [
       "<div>\n",
       "<style scoped>\n",
       "    .dataframe tbody tr th:only-of-type {\n",
       "        vertical-align: middle;\n",
       "    }\n",
       "\n",
       "    .dataframe tbody tr th {\n",
       "        vertical-align: top;\n",
       "    }\n",
       "\n",
       "    .dataframe thead th {\n",
       "        text-align: right;\n",
       "    }\n",
       "</style>\n",
       "<table border=\"1\" class=\"dataframe\">\n",
       "  <thead>\n",
       "    <tr style=\"text-align: right;\">\n",
       "      <th></th>\n",
       "      <th>index</th>\n",
       "      <th>name</th>\n",
       "      <th>review_count</th>\n",
       "      <th>rating</th>\n",
       "      <th>id</th>\n",
       "      <th>alias</th>\n",
       "      <th>price</th>\n",
       "      <th>categories</th>\n",
       "      <th>address</th>\n",
       "      <th>city</th>\n",
       "      <th>google_rating</th>\n",
       "      <th>google_ratings_total</th>\n",
       "      <th>google_price</th>\n",
       "      <th>status</th>\n",
       "    </tr>\n",
       "  </thead>\n",
       "  <tbody>\n",
       "    <tr>\n",
       "      <th>1138</th>\n",
       "      <td>198</td>\n",
       "      <td>Urban Leaf Cafe</td>\n",
       "      <td>144</td>\n",
       "      <td>4.5</td>\n",
       "      <td>fPTn5vF2ebsapsfJHpw82A</td>\n",
       "      <td>urban-leaf-cafe-nutley-2</td>\n",
       "      <td>$</td>\n",
       "      <td>Desserts, Coffee &amp; Tea, Bubble Tea</td>\n",
       "      <td>182 D Kingsland St, Nutley, NJ 07110</td>\n",
       "      <td>Nutley</td>\n",
       "      <td>4.6</td>\n",
       "      <td>216.0</td>\n",
       "      <td>NaN</td>\n",
       "      <td>OPERATIONAL</td>\n",
       "    </tr>\n",
       "    <tr>\n",
       "      <th>628</th>\n",
       "      <td>273</td>\n",
       "      <td>Piz-zetta</td>\n",
       "      <td>317</td>\n",
       "      <td>4.5</td>\n",
       "      <td>i_rg-OLXQbpRUN7O3MeCeA</td>\n",
       "      <td>piz-zetta-brooklyn-2</td>\n",
       "      <td>$</td>\n",
       "      <td>Italian, Pizza</td>\n",
       "      <td>90 Livingston St, Brooklyn, NY 11201</td>\n",
       "      <td>Brooklyn</td>\n",
       "      <td>4.6</td>\n",
       "      <td>297.0</td>\n",
       "      <td>2.0</td>\n",
       "      <td>OPERATIONAL</td>\n",
       "    </tr>\n",
       "    <tr>\n",
       "      <th>612</th>\n",
       "      <td>168</td>\n",
       "      <td>Dulce De Leche Bakery</td>\n",
       "      <td>328</td>\n",
       "      <td>4.5</td>\n",
       "      <td>eaevhIPvdYa7A6jTrrCewQ</td>\n",
       "      <td>dulce-de-leche-bakery-west-new-york</td>\n",
       "      <td>$</td>\n",
       "      <td>Bakeries, Cafes, Empanadas</td>\n",
       "      <td>6510 Bergenline Ave, West New York, NJ 07093</td>\n",
       "      <td>West New York</td>\n",
       "      <td>4.6</td>\n",
       "      <td>2930.0</td>\n",
       "      <td>1.0</td>\n",
       "      <td>OPERATIONAL</td>\n",
       "    </tr>\n",
       "    <tr>\n",
       "      <th>606</th>\n",
       "      <td>222</td>\n",
       "      <td>Wowfulls</td>\n",
       "      <td>331</td>\n",
       "      <td>4.5</td>\n",
       "      <td>htXRzg3a3jMQt3mg_zM-yQ</td>\n",
       "      <td>wowfulls-brooklyn-9</td>\n",
       "      <td>$</td>\n",
       "      <td>Desserts, Waffles, Ice Cream &amp; Frozen Yogurt</td>\n",
       "      <td>90 Kent Ave, Brooklyn, NY 11249</td>\n",
       "      <td>Brooklyn</td>\n",
       "      <td>4.6</td>\n",
       "      <td>353.0</td>\n",
       "      <td>1.0</td>\n",
       "      <td>OPERATIONAL</td>\n",
       "    </tr>\n",
       "    <tr>\n",
       "      <th>594</th>\n",
       "      <td>300</td>\n",
       "      <td>Margherita Pizza</td>\n",
       "      <td>340</td>\n",
       "      <td>4.5</td>\n",
       "      <td>Gh7XAH2xT3lnpOERhzSNxA</td>\n",
       "      <td>margherita-pizza-jamaica</td>\n",
       "      <td>$</td>\n",
       "      <td>Pizza</td>\n",
       "      <td>163-04 Jamaica Ave, Jamaica, NY 11432</td>\n",
       "      <td>Jamaica</td>\n",
       "      <td>4.6</td>\n",
       "      <td>1278.0</td>\n",
       "      <td>1.0</td>\n",
       "      <td>OPERATIONAL</td>\n",
       "    </tr>\n",
       "    <tr>\n",
       "      <th>...</th>\n",
       "      <td>...</td>\n",
       "      <td>...</td>\n",
       "      <td>...</td>\n",
       "      <td>...</td>\n",
       "      <td>...</td>\n",
       "      <td>...</td>\n",
       "      <td>...</td>\n",
       "      <td>...</td>\n",
       "      <td>...</td>\n",
       "      <td>...</td>\n",
       "      <td>...</td>\n",
       "      <td>...</td>\n",
       "      <td>...</td>\n",
       "      <td>...</td>\n",
       "    </tr>\n",
       "    <tr>\n",
       "      <th>100</th>\n",
       "      <td>28</td>\n",
       "      <td>Sonbobs</td>\n",
       "      <td>57</td>\n",
       "      <td>5.0</td>\n",
       "      <td>lm6AchFt32BqTf3OoQBBPw</td>\n",
       "      <td>sonbobs-astoria</td>\n",
       "      <td>$</td>\n",
       "      <td>Coffee &amp; Tea, Desserts, Sandwiches</td>\n",
       "      <td>34-15 28th Ave, Astoria, NY 11103</td>\n",
       "      <td>Astoria</td>\n",
       "      <td>4.9</td>\n",
       "      <td>76.0</td>\n",
       "      <td>1.0</td>\n",
       "      <td>OPERATIONAL</td>\n",
       "    </tr>\n",
       "    <tr>\n",
       "      <th>1771</th>\n",
       "      <td>410</td>\n",
       "      <td>Juju Cafe and Deli</td>\n",
       "      <td>41</td>\n",
       "      <td>4.5</td>\n",
       "      <td>gxrxuP4_Mc_WbISGotgiLw</td>\n",
       "      <td>juju-cafe-and-deli-brooklyn</td>\n",
       "      <td>$</td>\n",
       "      <td>Cafes, Delis, Japanese</td>\n",
       "      <td>143 Smith St, Brooklyn, NY 11201</td>\n",
       "      <td>Brooklyn</td>\n",
       "      <td>4.9</td>\n",
       "      <td>96.0</td>\n",
       "      <td>NaN</td>\n",
       "      <td>OPERATIONAL</td>\n",
       "    </tr>\n",
       "    <tr>\n",
       "      <th>121</th>\n",
       "      <td>45</td>\n",
       "      <td>Eugene J. Candy Co.</td>\n",
       "      <td>49</td>\n",
       "      <td>5.0</td>\n",
       "      <td>CAVAhULoGltO1GpmBqwY3Q</td>\n",
       "      <td>eugene-j-candy-co-brooklyn-4</td>\n",
       "      <td>$</td>\n",
       "      <td>Candy Stores, Desserts, Gift Shops</td>\n",
       "      <td>16 Wilson Ave, Brooklyn, NY 11237</td>\n",
       "      <td>Brooklyn</td>\n",
       "      <td>4.9</td>\n",
       "      <td>107.0</td>\n",
       "      <td>NaN</td>\n",
       "      <td>OPERATIONAL</td>\n",
       "    </tr>\n",
       "    <tr>\n",
       "      <th>1448</th>\n",
       "      <td>77</td>\n",
       "      <td>Burmese Bites</td>\n",
       "      <td>88</td>\n",
       "      <td>4.5</td>\n",
       "      <td>YtU1rb_oDHTbYzl-NFglPQ</td>\n",
       "      <td>burmese-bites-elmhurst-2</td>\n",
       "      <td>$</td>\n",
       "      <td>Burmese</td>\n",
       "      <td>90-15 Queens Blvd, Elmhurst, NY 11373</td>\n",
       "      <td>Elmhurst</td>\n",
       "      <td>5.0</td>\n",
       "      <td>50.0</td>\n",
       "      <td>NaN</td>\n",
       "      <td>OPERATIONAL</td>\n",
       "    </tr>\n",
       "    <tr>\n",
       "      <th>1679</th>\n",
       "      <td>151</td>\n",
       "      <td>Cerasella</td>\n",
       "      <td>54</td>\n",
       "      <td>4.5</td>\n",
       "      <td>lnrlmxRwXwx5pru2iPKx1w</td>\n",
       "      <td>cerasella-astoria-2</td>\n",
       "      <td>$</td>\n",
       "      <td>Desserts, Cafes, Bakeries</td>\n",
       "      <td>36-27 31st St, Astoria, NY 11106</td>\n",
       "      <td>Astoria</td>\n",
       "      <td>5.0</td>\n",
       "      <td>209.0</td>\n",
       "      <td>1.0</td>\n",
       "      <td>OPERATIONAL</td>\n",
       "    </tr>\n",
       "  </tbody>\n",
       "</table>\n",
       "<p>365 rows × 14 columns</p>\n",
       "</div>"
      ],
      "text/plain": [
       "      index                   name  review_count  rating  \\\n",
       "1138    198        Urban Leaf Cafe           144     4.5   \n",
       "628     273              Piz-zetta           317     4.5   \n",
       "612     168  Dulce De Leche Bakery           328     4.5   \n",
       "606     222               Wowfulls           331     4.5   \n",
       "594     300       Margherita Pizza           340     4.5   \n",
       "...     ...                    ...           ...     ...   \n",
       "100      28                Sonbobs            57     5.0   \n",
       "1771    410     Juju Cafe and Deli            41     4.5   \n",
       "121      45    Eugene J. Candy Co.            49     5.0   \n",
       "1448     77          Burmese Bites            88     4.5   \n",
       "1679    151              Cerasella            54     4.5   \n",
       "\n",
       "                          id                                alias price  \\\n",
       "1138  fPTn5vF2ebsapsfJHpw82A             urban-leaf-cafe-nutley-2     $   \n",
       "628   i_rg-OLXQbpRUN7O3MeCeA                 piz-zetta-brooklyn-2     $   \n",
       "612   eaevhIPvdYa7A6jTrrCewQ  dulce-de-leche-bakery-west-new-york     $   \n",
       "606   htXRzg3a3jMQt3mg_zM-yQ                  wowfulls-brooklyn-9     $   \n",
       "594   Gh7XAH2xT3lnpOERhzSNxA             margherita-pizza-jamaica     $   \n",
       "...                      ...                                  ...   ...   \n",
       "100   lm6AchFt32BqTf3OoQBBPw                      sonbobs-astoria     $   \n",
       "1771  gxrxuP4_Mc_WbISGotgiLw          juju-cafe-and-deli-brooklyn     $   \n",
       "121   CAVAhULoGltO1GpmBqwY3Q         eugene-j-candy-co-brooklyn-4     $   \n",
       "1448  YtU1rb_oDHTbYzl-NFglPQ             burmese-bites-elmhurst-2     $   \n",
       "1679  lnrlmxRwXwx5pru2iPKx1w                  cerasella-astoria-2     $   \n",
       "\n",
       "                                        categories  \\\n",
       "1138            Desserts, Coffee & Tea, Bubble Tea   \n",
       "628                                 Italian, Pizza   \n",
       "612                     Bakeries, Cafes, Empanadas   \n",
       "606   Desserts, Waffles, Ice Cream & Frozen Yogurt   \n",
       "594                                          Pizza   \n",
       "...                                            ...   \n",
       "100             Coffee & Tea, Desserts, Sandwiches   \n",
       "1771                        Cafes, Delis, Japanese   \n",
       "121             Candy Stores, Desserts, Gift Shops   \n",
       "1448                                       Burmese   \n",
       "1679                     Desserts, Cafes, Bakeries   \n",
       "\n",
       "                                           address           city  \\\n",
       "1138          182 D Kingsland St, Nutley, NJ 07110         Nutley   \n",
       "628           90 Livingston St, Brooklyn, NY 11201       Brooklyn   \n",
       "612   6510 Bergenline Ave, West New York, NJ 07093  West New York   \n",
       "606                90 Kent Ave, Brooklyn, NY 11249       Brooklyn   \n",
       "594          163-04 Jamaica Ave, Jamaica, NY 11432        Jamaica   \n",
       "...                                            ...            ...   \n",
       "100              34-15 28th Ave, Astoria, NY 11103        Astoria   \n",
       "1771              143 Smith St, Brooklyn, NY 11201       Brooklyn   \n",
       "121              16 Wilson Ave, Brooklyn, NY 11237       Brooklyn   \n",
       "1448         90-15 Queens Blvd, Elmhurst, NY 11373       Elmhurst   \n",
       "1679              36-27 31st St, Astoria, NY 11106        Astoria   \n",
       "\n",
       "      google_rating  google_ratings_total  google_price       status  \n",
       "1138            4.6                 216.0           NaN  OPERATIONAL  \n",
       "628             4.6                 297.0           2.0  OPERATIONAL  \n",
       "612             4.6                2930.0           1.0  OPERATIONAL  \n",
       "606             4.6                 353.0           1.0  OPERATIONAL  \n",
       "594             4.6                1278.0           1.0  OPERATIONAL  \n",
       "...             ...                   ...           ...          ...  \n",
       "100             4.9                  76.0           1.0  OPERATIONAL  \n",
       "1771            4.9                  96.0           NaN  OPERATIONAL  \n",
       "121             4.9                 107.0           NaN  OPERATIONAL  \n",
       "1448            5.0                  50.0           NaN  OPERATIONAL  \n",
       "1679            5.0                 209.0           1.0  OPERATIONAL  \n",
       "\n",
       "[365 rows x 14 columns]"
      ]
     },
     "execution_count": 24,
     "metadata": {},
     "output_type": "execute_result"
    }
   ],
   "source": [
    "data = restaurant_data.query(\"google_rating > 4.5 and rating >= 4.5\").sort_values(\"google_rating\")\n",
    "data.query(\"price == '$'\")"
   ]
  },
  {
   "cell_type": "code",
   "execution_count": null,
   "id": "configured-istanbul",
   "metadata": {},
   "outputs": [],
   "source": [
    "t = YelpRestaurant(data[\"businesses\"][0])\n",
    "vars(t)"
   ]
  },
  {
   "cell_type": "code",
   "execution_count": null,
   "id": "heavy-gilbert",
   "metadata": {},
   "outputs": [],
   "source": []
  },
  {
   "cell_type": "code",
   "execution_count": null,
   "id": "stuck-brunswick",
   "metadata": {},
   "outputs": [],
   "source": [
    "class YelpRestaurant:\n",
    "    def __init__(self, yelp_data: dict):\n",
    "        for key, value in yelp_data.items():\n",
    "            self.__dict__[key] = value\n",
    "        \n",
    "        self.google_rating = get_google_rating(f\"{self.alias}\")"
   ]
  },
  {
   "cell_type": "code",
   "execution_count": null,
   "id": "harmful-helicopter",
   "metadata": {},
   "outputs": [],
   "source": [
    "data[\"businesses\"][3]"
   ]
  },
  {
   "cell_type": "code",
   "execution_count": null,
   "id": "dietary-playing",
   "metadata": {},
   "outputs": [],
   "source": []
  }
 ],
 "metadata": {
  "kernelspec": {
   "display_name": "Python 3 (ipykernel)",
   "language": "python",
   "name": "python3"
  },
  "language_info": {
   "codemirror_mode": {
    "name": "ipython",
    "version": 3
   },
   "file_extension": ".py",
   "mimetype": "text/x-python",
   "name": "python",
   "nbconvert_exporter": "python",
   "pygments_lexer": "ipython3",
   "version": "3.8.13"
  }
 },
 "nbformat": 4,
 "nbformat_minor": 5
}
