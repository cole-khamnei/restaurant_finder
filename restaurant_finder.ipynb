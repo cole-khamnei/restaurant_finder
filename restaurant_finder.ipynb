{
 "cells": [
  {
   "cell_type": "code",
   "execution_count": 1,
   "id": "hungarian-baghdad",
   "metadata": {},
   "outputs": [],
   "source": [
    "import json\n",
    "import sys\n",
    "\n",
    "import matplotlib.pyplot as plt\n",
    "import numpy as np\n",
    "import pandas as pd\n",
    "import seaborn as sns\n",
    "\n",
    "from tqdm.notebook import tqdm\n",
    "\n",
    "import scrape\n",
    "import yelp\n",
    "import constants\n",
    "\n",
    "sys.path.append(\"../helpers/\")\n",
    "import helpers\n",
    "\n",
    "%load_ext autoreload\n",
    "%autoreload 2"
   ]
  },
  {
   "cell_type": "code",
   "execution_count": 2,
   "id": "prospective-summer",
   "metadata": {},
   "outputs": [],
   "source": [
    "import nord_vpn\n",
    "\n",
    "from sys import platform\n",
    "\n",
    "if platform != \"darwin\":\n",
    "    pass\n",
    "    vpn = nord_vpn.NordVPN()\n",
    "    vpn.connect()\n",
    "    vpn.disconnect()\n",
    "    vpn.check_status()"
   ]
  },
  {
   "cell_type": "code",
   "execution_count": 3,
   "id": "indoor-fairy",
   "metadata": {},
   "outputs": [
    {
     "name": "stdout",
     "output_type": "stream",
     "text": [
      "https://guide.michelin.com/us/en/new-york-state/new-york/restaurants/1-star-michelin\n"
     ]
    }
   ],
   "source": [
    "url = scrape.get_michelin_guide_url(\"new york\", \"new york\", stars=\"1\")\n",
    "print(url)"
   ]
  },
  {
   "cell_type": "code",
   "execution_count": 4,
   "id": "explicit-inspiration",
   "metadata": {},
   "outputs": [],
   "source": [
    "restaurant_html_list = scrape.get_michelin_guide_restaurant_html_list(\"new york\", \"new york\", stars=\"3\")\n",
    "restaurant_html = restaurant_html_list[0]"
   ]
  },
  {
   "cell_type": "code",
   "execution_count": 5,
   "id": "exterior-assessment",
   "metadata": {},
   "outputs": [
    {
     "name": "stdout",
     "output_type": "stream",
     "text": [
      "['355', 'USD', '•', 'Contemporary', 'French']\n"
     ]
    },
    {
     "data": {
      "text/plain": [
       "Per Se | 3 Stars | None Stars (Google Reviews)| 355"
      ]
     },
     "execution_count": 5,
     "metadata": {},
     "output_type": "execute_result"
    }
   ],
   "source": [
    "scrape.MichelinRestaurant(restaurant_html_list[1])"
   ]
  },
  {
   "cell_type": "code",
   "execution_count": 6,
   "id": "pregnant-concentrate",
   "metadata": {},
   "outputs": [],
   "source": [
    "# restaurant_html_list = scrape.get_michelin_guide_restaurant_html_list(\"new york\", \"new york\", stars=\"1+\")\n",
    "# restaurant_list = scrape.get_convert_restaurant_html_list_to_restaurants(restaurant_html_list)\n",
    "# restaurant_list = sorted(restaurant_list)"
   ]
  },
  {
   "cell_type": "markdown",
   "id": "enclosed-electricity",
   "metadata": {},
   "source": [
    "# Michelin Star Restaurants"
   ]
  },
  {
   "cell_type": "code",
   "execution_count": 7,
   "id": "adaptive-shareware",
   "metadata": {},
   "outputs": [],
   "source": [
    "# restaurant_data = pd.DataFrame([(restaurant.name, restaurant.cost, restaurant.distinction,\n",
    "#                                  restaurant.google_rating, restaurant) for restaurant in restaurant_list],\n",
    "#                                columns=[\"name\", \"cost\", \"michelin_stars\", \"google_rating\", \"restaurant\"])"
   ]
  },
  {
   "cell_type": "code",
   "execution_count": 8,
   "id": "alien-pickup",
   "metadata": {},
   "outputs": [],
   "source": [
    "# restaurant_data = restaurant_data.sort_values(by=[\"cost\", \"google_rating\"], ascending=[True, False]).reset_index()\n",
    "# restaurant_data.head(50)"
   ]
  },
  {
   "cell_type": "markdown",
   "id": "advised-delta",
   "metadata": {},
   "source": [
    "# Bib Gourmand"
   ]
  },
  {
   "cell_type": "code",
   "execution_count": 9,
   "id": "minute-brunswick",
   "metadata": {
    "scrolled": false
   },
   "outputs": [],
   "source": [
    "# bib_gourmand_restaurant_html_list = scrape.get_michelin_guide_restaurant_html_list(\"new york\", \"new york\", stars=\"0\")\n",
    "# bib_gourmand_restaurant_list = scrape.get_convert_restaurant_html_list_to_restaurants(bib_gourmand_restaurant_html_list)\n",
    "# bib_gourmand_restaurant_list = sorted(bib_gourmand_restaurant_list)"
   ]
  },
  {
   "cell_type": "code",
   "execution_count": 10,
   "id": "threaded-cuisine",
   "metadata": {
    "scrolled": false
   },
   "outputs": [],
   "source": [
    "# bib_gourmand_restaurant_data = pd.DataFrame([(restaurant.name, restaurant.cost, restaurant.distinction,\n",
    "#                                  restaurant.google_rating, restaurant) for restaurant in bib_gourmand_restaurant_list],\n",
    "#                                columns=[\"name\", \"cost\", \"michelin_stars\", \"google_rating\", \"restaurant\"])\n",
    "\n",
    "# bib_gourmand_restaurant_data = bib_gourmand_restaura`nt_data.sort_values(by=[\"cost\", \"google_rating\"],\n",
    "#                                                                         ascending=[True, False]).reset_index()\n",
    "# bib_gourmand_restaurant_data.query(\"google_rating == 4.3\").head(50)"
   ]
  },
  {
   "cell_type": "markdown",
   "id": "recreational-tolerance",
   "metadata": {},
   "source": [
    "# Yelp Data Pulling"
   ]
  },
  {
   "cell_type": "code",
   "execution_count": 11,
   "id": "f0c2572f",
   "metadata": {},
   "outputs": [],
   "source": [
    "overwrite = False"
   ]
  },
  {
   "cell_type": "code",
   "execution_count": 190,
   "id": "a862b527",
   "metadata": {},
   "outputs": [],
   "source": [
    "data = helpers.cached_function(f\"data/yelp_data.pkl\", yelp.get_all_restaurants,\n",
    "                               \"restaurant\", price=\"1,2,3,4\", sort_by=\"rating\", location=\"NYC\", top=1000,\n",
    "                               per_price=True, overwrite=False)"
   ]
  },
  {
   "cell_type": "code",
   "execution_count": 199,
   "id": "f5284880",
   "metadata": {},
   "outputs": [],
   "source": [
    "restaurant_data = yelp.yelp_data_to_restaurant_df(data)\n",
    "restaurant_data = restaurant_data.query(\"rating > 3.5 and review_count > 40\")\n",
    "restaurant_data.sort_values([\"rating\", \"review_count\"], ascending=False, inplace=True)\n",
    "restaurant_data.reset_index(inplace=True)"
   ]
  },
  {
   "cell_type": "code",
   "execution_count": 200,
   "id": "dd5687a5",
   "metadata": {},
   "outputs": [
    {
     "data": {
      "text/html": [
       "<div>\n",
       "<style scoped>\n",
       "    .dataframe tbody tr th:only-of-type {\n",
       "        vertical-align: middle;\n",
       "    }\n",
       "\n",
       "    .dataframe tbody tr th {\n",
       "        vertical-align: top;\n",
       "    }\n",
       "\n",
       "    .dataframe thead th {\n",
       "        text-align: right;\n",
       "    }\n",
       "</style>\n",
       "<table border=\"1\" class=\"dataframe\">\n",
       "  <thead>\n",
       "    <tr style=\"text-align: right;\">\n",
       "      <th></th>\n",
       "      <th>index</th>\n",
       "      <th>name</th>\n",
       "      <th>review_count</th>\n",
       "      <th>rating</th>\n",
       "      <th>id</th>\n",
       "      <th>alias</th>\n",
       "      <th>price</th>\n",
       "      <th>categories</th>\n",
       "      <th>address</th>\n",
       "      <th>city</th>\n",
       "    </tr>\n",
       "  </thead>\n",
       "  <tbody>\n",
       "    <tr>\n",
       "      <th>0</th>\n",
       "      <td>1900</td>\n",
       "      <td>Haidilao Hot Pot Flushing</td>\n",
       "      <td>1784</td>\n",
       "      <td>5.0</td>\n",
       "      <td>jWuUibgnTGsJibOrr6UUSw</td>\n",
       "      <td>haidilao-hot-pot-flushing-flushing</td>\n",
       "      <td>$$$</td>\n",
       "      <td>Hot Pot, Chinese</td>\n",
       "      <td>138-23 39th Ave, Flushing, NY 11354</td>\n",
       "      <td>Flushing</td>\n",
       "    </tr>\n",
       "    <tr>\n",
       "      <th>1</th>\n",
       "      <td>956</td>\n",
       "      <td>The Alcove</td>\n",
       "      <td>1027</td>\n",
       "      <td>5.0</td>\n",
       "      <td>MNNpsRXe7Wt5m3Jla9Wk0w</td>\n",
       "      <td>the-alcove-sunnyside</td>\n",
       "      <td>$$</td>\n",
       "      <td>Gastropubs, Tapas Bars, Breakfast &amp; Brunch</td>\n",
       "      <td>41-11 49th St, Sunnyside, NY 11104</td>\n",
       "      <td>Sunnyside</td>\n",
       "    </tr>\n",
       "    <tr>\n",
       "      <th>2</th>\n",
       "      <td>1901</td>\n",
       "      <td>Otis</td>\n",
       "      <td>446</td>\n",
       "      <td>5.0</td>\n",
       "      <td>RfxOtJ4SQmEeVX_XjFLWUQ</td>\n",
       "      <td>otis-brooklyn-2</td>\n",
       "      <td>$$$</td>\n",
       "      <td>American (New), Cocktail Bars</td>\n",
       "      <td>18 Harrison Pl, Brooklyn, NY 11206</td>\n",
       "      <td>Brooklyn</td>\n",
       "    </tr>\n",
       "    <tr>\n",
       "      <th>3</th>\n",
       "      <td>958</td>\n",
       "      <td>Scott's Pizza Tours</td>\n",
       "      <td>355</td>\n",
       "      <td>5.0</td>\n",
       "      <td>VP3-iMnKK_TaHDuy6mxTzA</td>\n",
       "      <td>scotts-pizza-tours-new-york</td>\n",
       "      <td>$$</td>\n",
       "      <td>Pizza, Food Tours, Walking Tours</td>\n",
       "      <td>New York, NY 10001</td>\n",
       "      <td>New York</td>\n",
       "    </tr>\n",
       "    <tr>\n",
       "      <th>4</th>\n",
       "      <td>14</td>\n",
       "      <td>Joey Bats Café</td>\n",
       "      <td>349</td>\n",
       "      <td>5.0</td>\n",
       "      <td>uYMimeHJ5XBGkyTrg8GXhw</td>\n",
       "      <td>joey-bats-café-new-york</td>\n",
       "      <td>$</td>\n",
       "      <td>Desserts, Portuguese, Cafes</td>\n",
       "      <td>129 Allen St, New York, NY 10002</td>\n",
       "      <td>New York</td>\n",
       "    </tr>\n",
       "  </tbody>\n",
       "</table>\n",
       "</div>"
      ],
      "text/plain": [
       "   index                       name  review_count  rating  \\\n",
       "0   1900  Haidilao Hot Pot Flushing          1784     5.0   \n",
       "1    956                 The Alcove          1027     5.0   \n",
       "2   1901                       Otis           446     5.0   \n",
       "3    958        Scott's Pizza Tours           355     5.0   \n",
       "4     14             Joey Bats Café           349     5.0   \n",
       "\n",
       "                       id                               alias price  \\\n",
       "0  jWuUibgnTGsJibOrr6UUSw  haidilao-hot-pot-flushing-flushing   $$$   \n",
       "1  MNNpsRXe7Wt5m3Jla9Wk0w                the-alcove-sunnyside    $$   \n",
       "2  RfxOtJ4SQmEeVX_XjFLWUQ                     otis-brooklyn-2   $$$   \n",
       "3  VP3-iMnKK_TaHDuy6mxTzA         scotts-pizza-tours-new-york    $$   \n",
       "4  uYMimeHJ5XBGkyTrg8GXhw             joey-bats-café-new-york     $   \n",
       "\n",
       "                                   categories  \\\n",
       "0                            Hot Pot, Chinese   \n",
       "1  Gastropubs, Tapas Bars, Breakfast & Brunch   \n",
       "2               American (New), Cocktail Bars   \n",
       "3            Pizza, Food Tours, Walking Tours   \n",
       "4                 Desserts, Portuguese, Cafes   \n",
       "\n",
       "                               address       city  \n",
       "0  138-23 39th Ave, Flushing, NY 11354   Flushing  \n",
       "1   41-11 49th St, Sunnyside, NY 11104  Sunnyside  \n",
       "2   18 Harrison Pl, Brooklyn, NY 11206   Brooklyn  \n",
       "3                   New York, NY 10001   New York  \n",
       "4     129 Allen St, New York, NY 10002   New York  "
      ]
     },
     "execution_count": 200,
     "metadata": {},
     "output_type": "execute_result"
    }
   ],
   "source": [
    "restaurant_data.head()"
   ]
  },
  {
   "cell_type": "code",
   "execution_count": null,
   "id": "76ed0ea8",
   "metadata": {},
   "outputs": [
    {
     "name": "stderr",
     "output_type": "stream",
     "text": [
      "Fetching Google info:  30%|███████████████████████████████████████▍                                                                                            | 789/2644 [10:01<19:38,  1.57 request/s]"
     ]
    }
   ],
   "source": [
    "restaurant_data = helpers.cached_function(\"data/yelp_data_with_google_reviews.pkl\",\n",
    "                                          yelp.add_google_place_info, restaurant_data, overwrite=False)"
   ]
  },
  {
   "cell_type": "code",
   "execution_count": 195,
   "id": "59c158ef",
   "metadata": {},
   "outputs": [
    {
     "data": {
      "image/png": "[encoded data removed]",
      "text/plain": [
       "<Figure size 1008x360 with 1 Axes>"
      ]
     },
     "metadata": {
      "needs_background": "light"
     },
     "output_type": "display_data"
    }
   ],
   "source": [
    "fig, ax = plt.subplots(figsize=(14, 5))\n",
    "sns.boxplot(data=restaurant_data, x=\"rating\", y=\"google_rating\", ax=ax)\n",
    "helpers.add_plt_labels(ax, x=\"Yelp Rating\", y=\"Google Rating\")"
   ]
  },
  {
   "cell_type": "code",
   "execution_count": null,
   "id": "853f0e8b",
   "metadata": {},
   "outputs": [],
   "source": []
  },
  {
   "cell_type": "code",
   "execution_count": null,
   "id": "2c07c1bd",
   "metadata": {},
   "outputs": [],
   "source": []
  },
  {
   "cell_type": "code",
   "execution_count": null,
   "id": "configured-istanbul",
   "metadata": {},
   "outputs": [],
   "source": [
    "t = YelpRestaurant(data[\"businesses\"][0])\n",
    "vars(t)"
   ]
  },
  {
   "cell_type": "code",
   "execution_count": null,
   "id": "heavy-gilbert",
   "metadata": {},
   "outputs": [],
   "source": []
  },
  {
   "cell_type": "code",
   "execution_count": null,
   "id": "stuck-brunswick",
   "metadata": {},
   "outputs": [],
   "source": [
    "class YelpRestaurant:\n",
    "    def __init__(self, yelp_data: dict):\n",
    "        for key, value in yelp_data.items():\n",
    "            self.__dict__[key] = value\n",
    "        \n",
    "        self.google_rating = get_google_rating(f\"{self.alias}\")"
   ]
  },
  {
   "cell_type": "code",
   "execution_count": null,
   "id": "harmful-helicopter",
   "metadata": {},
   "outputs": [],
   "source": [
    "data[\"businesses\"][3]"
   ]
  },
  {
   "cell_type": "code",
   "execution_count": null,
   "id": "dietary-playing",
   "metadata": {},
   "outputs": [],
   "source": []
  }
 ],
 "metadata": {
  "kernelspec": {
   "display_name": "Python 3 (ipykernel)",
   "language": "python",
   "name": "python3"
  },
  "language_info": {
   "codemirror_mode": {
    "name": "ipython",
    "version": 3
   },
   "file_extension": ".py",
   "mimetype": "text/x-python",
   "name": "python",
   "nbconvert_exporter": "python",
   "pygments_lexer": "ipython3",
   "version": "3.8.13"
  }
 },
 "nbformat": 4,
 "nbformat_minor": 5
}
